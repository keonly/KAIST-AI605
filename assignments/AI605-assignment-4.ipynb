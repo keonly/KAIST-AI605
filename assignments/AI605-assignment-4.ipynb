{
 "cells": [
  {
   "cell_type": "markdown",
   "id": "2dc0963f",
   "metadata": {},
   "source": [
    "# 2023 Fall AI605 Assignment 4: Parameter Efficient Fine-tuning and Alignment\n",
    "\n",
    "## Rubric\n",
    "\n",
    "### Deadline\n",
    "\n",
    "The deadline for this assignment is: Friday 15th December 2023 (Week 16) 11:59pm\n",
    "\n",
    "### Submission\n",
    "\n",
    "Please submit your assignment via [KLMS](https://klms.kaist.ac.kr). You must submit the Jupyter Notebook file (.ipynb) with all code and model outputs.\n",
    "\n",
    "Use in-line LaTeX for mathematical expressions.\n",
    "\n",
    "### Collaboration\n",
    "\n",
    "This assignment is an individual assingnment. It is **not** a group assignment so make sure your answer and code are your own.\n",
    "\n",
    "Please ensure that you do not violate the class policy on the use of ChatGPT.\n",
    "\n",
    "### Grading\n",
    "\n",
    "The total number of marks avaiable is 25 points.\n",
    "\n",
    "Bonus questions can be answered for an additional 5 points. You can freely select bonus questions up to the budget of up to 5 points. If you select more than 5 marks worth of bonus questions, only the first 5 marks will be evaluated.\n",
    "\n",
    "If you score >25 points, these marks will be distributed to your other assignments.\n",
    "\n",
    "### Environment\n",
    "\n",
    "The use of a GPU is recommended for problem 1.4. Limit computation time to less than 1 hour.\n",
    "\n",
    "### Data\n",
    "\n",
    "The Yelp dataset for prolem 1.4 can be downloaded through the HuggingFace datasets library.\n",
    "\n",
    "### Libraries\n",
    "\n",
    "The following libraries should be used for the project. You should not need any other libraries.\n"
   ]
  },
  {
   "cell_type": "code",
   "execution_count": null,
   "id": "bdc53cd4",
   "metadata": {},
   "outputs": [],
   "source": [
    "# !pip install torch tqdm datasets transformers evaluate"
   ]
  },
  {
   "cell_type": "markdown",
   "id": "ab7b63e1",
   "metadata": {},
   "source": [
    "# Problem 1 - Parameter Efficient Fine-Tuning (15 points)\n"
   ]
  },
  {
   "cell_type": "markdown",
   "id": "8f17ec8f",
   "metadata": {},
   "source": [
    "This question is based on the following two papers: \"Low Rank Adaptation of Large Language Models\" https://arxiv.org/abs/2106.09685 and \"Prefix-Tuning: Optimizing Continuous Prompts for Generation\" https://arxiv.org/abs/2101.00190\n"
   ]
  },
  {
   "cell_type": "markdown",
   "id": "1cd16dc1",
   "metadata": {},
   "source": [
    "**Problem 1.1** A decoder-only langauge model is trained on an autoregressive (next word prediction) task. The configuration of the model is as follows:\n",
    "\n",
    "- Number of attention heads: 20\n",
    "- Number of layers: 36\n",
    "- Vocab size: 50257\n",
    "- Embedding dimension: 1280\n",
    "- Model dimension: 1280\n",
    "- Feed-forward intermediate size: 4\\* Model dimension\n",
    "\n",
    "Hint: for multi-head attention attention module inner dimension is determined related to the number of heads: https://arxiv.org/abs/1706.03762 - parameters for layer normalization can be ignored\n"
   ]
  },
  {
   "cell_type": "markdown",
   "id": "84f9b348-ce10-44cc-8d06-877186dea22c",
   "metadata": {},
   "source": [
    "**Problem 1.1a** (2 points) The full model is undergoing supervised fine-tuning _without_ any parameter efficient fine-tuning. Compute the number of parameters that will be updated. You must show your working.\n"
   ]
  },
  {
   "cell_type": "markdown",
   "id": "dbaddecd",
   "metadata": {},
   "source": [
    "I am assuming that by a 'decoder-only language model trained on an autoregressive task,' the model has [an architecture similar to that of GPT's](https://production-media.paperswithcode.com/methods/Screen_Shot_2020-05-27_at_12.41.44_PM.png).\n",
    "\n",
    "Since the parameters for layer normalisation can be ignored, we only need to focus on the multi-head attention and the feed-forward network.\n",
    "\n",
    "First, the embedding layer: it takes an input of dimension equal to the vocab size, and outputs an embedding vector of dimension equal to the model dimension. This means that the embedding layer have the size\n",
    "\n",
    "$$\n",
    "W_\\text{emb} \\in \\mathbb{R}^{V \\times d_\\text{model}} = \\mathbb{R}^{50257 \\times 1280}\n",
    "$$\n",
    "\n",
    "Next, let us consider the multi-head attention. Since there are 20 attention heads, $d_k = d_v = d_\\text{model} / h = 1280 / 20 = 64$. Then, the parameter matrices have the size\n",
    "\n",
    "$$\n",
    "\\begin{align*}\n",
    "    W_i^Q \\in \\mathbb{R}^{d_\\text{model} \\times d_k} = \\mathbb{R}^{1280 \\times 64}\\\\\n",
    "    W_i^K \\in \\mathbb{R}^{d_\\text{model} \\times d_k} = \\mathbb{R}^{1280 \\times 64}\\\\\n",
    "    W_i^V \\in \\mathbb{R}^{d_\\text{model} \\times d_v} = \\mathbb{R}^{1280 \\times 64}\n",
    "\\end{align*}\n",
    "$$\n",
    "\n",
    "for the $i$-th head, and\n",
    "\n",
    "$$\n",
    "    W^O \\in \\mathbb{R}^{hd_v \\times d_\\text{model}} = \\mathbb{R}^{1280 \\times 1280}\n",
    "$$\n",
    "\n",
    "respectively.\n",
    "\n",
    "(Ignoring the bias terms) The feed-forward layer consists of two linear layers, $W_1$ and $W_2$. Since the intermediate dimension of the feed-forward layer is given as 4 times the model dimension, we have that\n",
    "\n",
    "$$\n",
    "\\begin{align*}\n",
    "    W_1 \\in \\mathbb{R}^{d_\\text{model} \\times d_\\text{ff}} = \\mathbb{R}^{1280 \\times (4 \\cdot 1280)}\\\\\n",
    "    W_2 \\in \\mathbb{R}^{d_\\text{ff} \\times d_\\text{model}} = \\mathbb{R}^{(4 \\cdot 1280) \\times 1280}\n",
    "\\end{align*}\n",
    "$$\n",
    "\n",
    "Summing up, there are total of $20 \\cdot 3 \\cdot (1280 \\times 64) + 1280 \\times 1280 + 1280 \\times (4 \\cdot 1280) + (4 \\cdot 1280) \\times 1280 = 19660800$ parameters. Since there are total of 36 layers, we need to multiply this by 36. We also need to add the parameters for the embedding layer. This gives the total number of $772117760$ parameters to be updated when undergoing fine-tuning without any parameter efficient fine-tuning methods.\n"
   ]
  },
  {
   "cell_type": "markdown",
   "id": "da404665-c138-45d0-aef6-6098ef782847",
   "metadata": {},
   "source": [
    "**Problem 1.1b** (2 points) The model undergoes fine-tuning with prefix-tuning. $16$ prefix vectors are applied for each layer. Compute the number of parameters that will be updated. You must show your working. You can give your answer with or without any reparameterization of the embeddings.\n"
   ]
  },
  {
   "cell_type": "markdown",
   "id": "817398f1",
   "metadata": {},
   "source": [
    "Prefix-tuning initialises a trainable matrix $P_\\theta$ to store the prefix parameters. Each matrix has the size of\n",
    "\n",
    "$$\n",
    "P_\\theta \\in \\mathbb{R}^{|P_\\text{idx}| \\times d_\\text{model}} = \\mathbb{R}^{16 \\times 1280}\n",
    "$$\n",
    "\n",
    "and therefore the total number of updated parameters would be $36 \\cdot (16 \\times 1280) = 737280$.\n"
   ]
  },
  {
   "cell_type": "markdown",
   "id": "80297f55",
   "metadata": {},
   "source": [
    "**Problem 1.1c** (2 points) Low Rank Adaptors are applied when fine-tuning the model. LoRA is applied for the $W_q$, $W_k$, $W_v$, and $W_o$ matrices for the attention in each layer. Rank $4$ is used for the low rank adaptor. Compute the number of parameters that will be updated. You must show your working.\n"
   ]
  },
  {
   "cell_type": "markdown",
   "id": "8894bfbf",
   "metadata": {},
   "source": [
    "Applying LoRA would introduce two matrices $A$ and $B$ of size $A \\in \\mathbb{R}^{d_\\text{model} \\times 4}$ and $B \\in \\mathbb{R}^{4 \\times d_\\text{model}}$, for each self-attention module's weight matrices ($W^Q, W^K, W^V, W^O$).\n",
    "\n",
    "Therefore, total of $36 \\cdot 4 \\cdot (1280 \\times 4 \\times 2) = 1474560$ parameters would be updated.\n"
   ]
  },
  {
   "cell_type": "markdown",
   "id": "e3ea2cb3",
   "metadata": {},
   "source": [
    "**Problem 1.2** (2 points) A researcher at an AI lab has trained a GPT base model with a supervised fine tuning on the FLAN instruction tuning dataset. She then deploys the model for internal testing and collects preference data from human testers. She plans to further adapt the model with preference data from the human testers using RLHF and LoRA. List two advantages and one disadvantage of using LoRA when fine-tuning the model in this setting.\n"
   ]
  },
  {
   "cell_type": "markdown",
   "id": "f3b6f01e",
   "metadata": {},
   "source": [
    "- Advantages\n",
    "\n",
    "  - LoRA offers an efficient way to adapt the model to new tasks or data, like the preference data collected from human testers. By introducing low-rank matrices that are updated while keeping the majority of the pre-trained weights frozen, LoRA enables the model to learn new patterns or preferences without the need for full retraining of all parameters.\n",
    "\n",
    "  - By limiting the updates of the parameters to low-rank matrices, the core structure and learned representations of the original model are mostly preserved. This is important in maintaining the general language understanding and capabilities of the GPT model, ensuring that the fine-tuning process does not lead to \"catastrophic forgetting\", a significant loss of previously learned information.\n",
    "\n",
    "- Disadvantage\n",
    "\n",
    "  - While LoRA is efficient and preserves pre-trained knowledge, its limitation to low-rank updates may restrict the model's expressiveness in adapting to very specific user preferences. By design, the low-rank approach inherently constrains the degrees of freedom available for adjustments, which might not be sufficient for capturing highly specific or complex patterns in the preference data. This could lead to a situation where the fine-tuned model, although improved, still falls short of fully capturing the subtleties in human preferences or instructions.\n"
   ]
  },
  {
   "cell_type": "markdown",
   "id": "3032f914-1fb3-4f94-bd7b-8f78e9904bad",
   "metadata": {},
   "source": [
    "**Problem 1.3** (1 point) The researcher is unsure about whether to use rank 4 or rank 8 LoRA adaptors for adapting the model. Based on your understanding of section 7 of the LoRA paper describe the trade-off being made and determine which rank should be used.\n"
   ]
  },
  {
   "cell_type": "markdown",
   "id": "9f095a5d",
   "metadata": {},
   "source": [
    "The following insights can be drawn from the LoRA original paper:\n",
    "\n",
    "- The choice of rank in LoRA adaptors presents a trade-off between the number of parameters and the performance of the model. Higher ranks can potentially offer more expressive power, but they also increase the number of parameters to be trained.\n",
    "- A lower rank implies fewer parameters, which is computationally more efficient and requires less memory, but it might limit the capacity of the model to capture complex patterns in the data.\n",
    "- The LoRA paper demonstrates that even a low rank (e.g., rank 4) is sufficient for achieving significant performance improvements. Table 5 in the paper indicates that adapting both $W^Q$ and $W^V$ with a rank of 4 yields better results than using a higher rank for adapting a single type of weight matrix.\n",
    "- Further, Table 6 in the paper shows that increasing the rank does not always lead to significant improvements in performance. For instance, there is a marginal difference in performance between ranks 4 and 8, and even between ranks 8 and 64.\n",
    "\n",
    "Thus, it is advisable to start with a lower rank, such as rank 4, for the LoRA adaptors, as a rank of 4 has been shown to capture sufficient information for significant performance improvements while keeping the number of additional parameters relatively low.\n"
   ]
  },
  {
   "cell_type": "markdown",
   "id": "67cea9a1",
   "metadata": {},
   "source": [
    "**Problem 1.4** (4 points) Implement LoRA on the $W_q$ and $W_k$ matrix on a BERT model with Rank 4 and fine-tune the a bert-base-cased model on the Yelp movie reviews dataset. Report the training/validation loss curves and the validation set accuracy.\n",
    "\n",
    "We will provide the implementation of the SelfAttention layer in BERT. Clearly highlight the lines you've changed.\n"
   ]
  },
  {
   "cell_type": "code",
   "execution_count": 1,
   "id": "806a678c",
   "metadata": {},
   "outputs": [
    {
     "name": "stdout",
     "output_type": "stream",
     "text": [
      "USING AI605 Attention\n",
      "USING AI605 Attention\n",
      "USING AI605 Attention\n",
      "USING AI605 Attention\n",
      "USING AI605 Attention\n",
      "USING AI605 Attention\n",
      "USING AI605 Attention\n",
      "USING AI605 Attention\n",
      "USING AI605 Attention\n",
      "USING AI605 Attention\n",
      "USING AI605 Attention\n",
      "USING AI605 Attention\n"
     ]
    },
    {
     "name": "stderr",
     "output_type": "stream",
     "text": [
      "Some weights of BertForSequenceClassification were not initialized from the model checkpoint at bert-base-cased and are newly initialized: ['bert.encoder.layer.1.attention.self.key_adaptor_A', 'bert.encoder.layer.0.attention.self.query_adaptor_A', 'bert.encoder.layer.8.attention.self.query_adaptor_A', 'bert.encoder.layer.6.attention.self.query_adaptor_B', 'bert.encoder.layer.7.attention.self.key_adaptor_A', 'classifier.bias', 'bert.encoder.layer.11.attention.self.key_adaptor_A', 'bert.encoder.layer.4.attention.self.query_adaptor_A', 'bert.encoder.layer.8.attention.self.query_adaptor_B', 'bert.encoder.layer.7.attention.self.query_adaptor_A', 'bert.encoder.layer.6.attention.self.key_adaptor_B', 'bert.encoder.layer.7.attention.self.query_adaptor_B', 'bert.encoder.layer.5.attention.self.key_adaptor_B', 'bert.encoder.layer.6.attention.self.query_adaptor_A', 'bert.encoder.layer.9.attention.self.query_adaptor_A', 'bert.encoder.layer.10.attention.self.query_adaptor_B', 'bert.encoder.layer.1.attention.self.key_adaptor_B', 'bert.encoder.layer.11.attention.self.key_adaptor_B', 'bert.encoder.layer.1.attention.self.query_adaptor_B', 'bert.encoder.layer.5.attention.self.query_adaptor_A', 'bert.encoder.layer.1.attention.self.query_adaptor_A', 'bert.encoder.layer.0.attention.self.query_adaptor_B', 'bert.encoder.layer.2.attention.self.key_adaptor_A', 'bert.encoder.layer.0.attention.self.key_adaptor_B', 'classifier.weight', 'bert.encoder.layer.3.attention.self.query_adaptor_A', 'bert.encoder.layer.8.attention.self.key_adaptor_A', 'bert.encoder.layer.4.attention.self.key_adaptor_A', 'bert.encoder.layer.10.attention.self.key_adaptor_B', 'bert.encoder.layer.2.attention.self.query_adaptor_A', 'bert.encoder.layer.3.attention.self.key_adaptor_A', 'bert.encoder.layer.2.attention.self.key_adaptor_B', 'bert.encoder.layer.4.attention.self.query_adaptor_B', 'bert.encoder.layer.10.attention.self.query_adaptor_A', 'bert.encoder.layer.9.attention.self.query_adaptor_B', 'bert.encoder.layer.0.attention.self.key_adaptor_A', 'bert.encoder.layer.9.attention.self.key_adaptor_A', 'bert.encoder.layer.11.attention.self.query_adaptor_A', 'bert.encoder.layer.5.attention.self.query_adaptor_B', 'bert.encoder.layer.4.attention.self.key_adaptor_B', 'bert.encoder.layer.10.attention.self.key_adaptor_A', 'bert.encoder.layer.11.attention.self.query_adaptor_B', 'bert.encoder.layer.5.attention.self.key_adaptor_A', 'bert.encoder.layer.8.attention.self.key_adaptor_B', 'bert.encoder.layer.6.attention.self.key_adaptor_A', 'bert.encoder.layer.3.attention.self.key_adaptor_B', 'bert.encoder.layer.3.attention.self.query_adaptor_B', 'bert.encoder.layer.2.attention.self.query_adaptor_B', 'bert.encoder.layer.9.attention.self.key_adaptor_B', 'bert.encoder.layer.7.attention.self.key_adaptor_B']\n",
      "You should probably TRAIN this model on a down-stream task to be able to use it for predictions and inference.\n"
     ]
    }
   ],
   "source": [
    "from transformers.models.bert import modeling_bert\n",
    "from transformers.models.bert.modeling_bert import (\n",
    "    BertAttention,\n",
    "    BertSelfAttention,\n",
    "    BertSelfOutput,\n",
    ")\n",
    "from transformers import AutoModel, AutoTokenizer\n",
    "from torch import nn\n",
    "import torch.nn.functional as F\n",
    "\n",
    "import torch\n",
    "import warnings\n",
    "from dataclasses import dataclass\n",
    "from typing import Optional, Tuple, Union\n",
    "import math\n",
    "\n",
    "MODEL = \"bert-base-cased\"\n",
    "\n",
    "\n",
    "class BertSelfAttentionLora(nn.Module):\n",
    "    def __init__(self, config, position_embedding_type=None):\n",
    "        super().__init__()\n",
    "        print(\"USING AI605 Attention\")\n",
    "        if config.hidden_size % config.num_attention_heads != 0 and not hasattr(\n",
    "            config, \"embedding_size\"\n",
    "        ):\n",
    "            raise ValueError(\n",
    "                f\"The hidden size ({config.hidden_size}) is not a multiple of the number of attention \"\n",
    "                f\"heads ({config.num_attention_heads})\"\n",
    "            )\n",
    "\n",
    "        self.num_attention_heads = config.num_attention_heads\n",
    "        self.attention_head_size = int(config.hidden_size / config.num_attention_heads)\n",
    "        self.all_head_size = self.num_attention_heads * self.attention_head_size\n",
    "\n",
    "        # Hint: Edit these. Note that BERT model uses 1 large linear layer for all heads.\n",
    "        # You may have to change this to use 1 small layer for each head.\n",
    "        self.query = nn.Linear(config.hidden_size, self.all_head_size)\n",
    "        self.key = nn.Linear(config.hidden_size, self.all_head_size)\n",
    "\n",
    "        ### LoRA ###\n",
    "        self.lora_rank = 4\n",
    "        self.query_adaptor_A = nn.Parameter(\n",
    "            torch.randn(self.lora_rank, config.hidden_size)\n",
    "        )\n",
    "        self.query_adaptor_B = nn.Parameter(\n",
    "            torch.zeros(self.all_head_size, self.lora_rank)\n",
    "        )\n",
    "        self.key_adaptor_A = nn.Parameter(\n",
    "            torch.randn(self.lora_rank, config.hidden_size)\n",
    "        )\n",
    "        self.key_adaptor_B = nn.Parameter(\n",
    "            torch.zeros(self.all_head_size, self.lora_rank)\n",
    "        )\n",
    "        ############\n",
    "\n",
    "        self.value = nn.Linear(config.hidden_size, self.all_head_size)\n",
    "\n",
    "        self.dropout = nn.Dropout(config.attention_probs_dropout_prob)\n",
    "        self.position_embedding_type = position_embedding_type or getattr(\n",
    "            config, \"position_embedding_type\", \"absolute\"\n",
    "        )\n",
    "        if (\n",
    "            self.position_embedding_type == \"relative_key\"\n",
    "            or self.position_embedding_type == \"relative_key_query\"\n",
    "        ):\n",
    "            self.max_position_embeddings = config.max_position_embeddings\n",
    "            self.distance_embedding = nn.Embedding(\n",
    "                2 * config.max_position_embeddings - 1, self.attention_head_size\n",
    "            )\n",
    "\n",
    "        self.is_decoder = config.is_decoder\n",
    "\n",
    "    def transpose_for_scores(self, x: torch.Tensor) -> torch.Tensor:\n",
    "        new_x_shape = x.size()[:-1] + (\n",
    "            self.num_attention_heads,\n",
    "            self.attention_head_size,\n",
    "        )\n",
    "        x = x.view(new_x_shape)\n",
    "        return x.permute(0, 2, 1, 3)\n",
    "\n",
    "    def forward(\n",
    "        self,\n",
    "        hidden_states: torch.Tensor,\n",
    "        attention_mask: Optional[torch.FloatTensor] = None,\n",
    "        head_mask: Optional[torch.FloatTensor] = None,\n",
    "        encoder_hidden_states: Optional[torch.FloatTensor] = None,\n",
    "        encoder_attention_mask: Optional[torch.FloatTensor] = None,\n",
    "        past_key_value: Optional[Tuple[Tuple[torch.FloatTensor]]] = None,\n",
    "        output_attentions: Optional[bool] = False,\n",
    "    ) -> Tuple[torch.Tensor]:\n",
    "        # mixed_query_layer = self.query(hidden_states)\n",
    "\n",
    "        # If this is instantiated as a cross-attention module, the keys\n",
    "        # and values come from an encoder; the attention mask needs to be\n",
    "        # such that the encoder's padding tokens are not attended to.\n",
    "        is_cross_attention = encoder_hidden_states is not None\n",
    "\n",
    "        # Hint: Edit these lines\n",
    "        # key_layer = self.transpose_for_scores(self.key(hidden_states))\n",
    "        ### LoRA ###\n",
    "        mixed_query_layer = self.query(hidden_states) + F.linear(\n",
    "            hidden_states, torch.matmul(self.query_adaptor_B, self.query_adaptor_A)\n",
    "        )\n",
    "        mixed_key_layer = self.key(hidden_states) + F.linear(\n",
    "            hidden_states, torch.matmul(self.key_adaptor_B, self.key_adaptor_A)\n",
    "        )\n",
    "\n",
    "        query_layer = self.transpose_for_scores(mixed_query_layer)\n",
    "        key_layer = self.transpose_for_scores(mixed_key_layer)\n",
    "        ############\n",
    "\n",
    "        value_layer = self.transpose_for_scores(self.value(hidden_states))\n",
    "\n",
    "        use_cache = past_key_value is not None\n",
    "        if self.is_decoder:\n",
    "            # if cross_attention save Tuple(torch.Tensor, torch.Tensor) of all cross attention key/value_states.\n",
    "            # Further calls to cross_attention layer can then reuse all cross-attention\n",
    "            # key/value_states (first \"if\" case)\n",
    "            # if uni-directional self-attention (decoder) save Tuple(torch.Tensor, torch.Tensor) of\n",
    "            # all previous decoder key/value_states. Further calls to uni-directional self-attention\n",
    "            # can concat previous decoder key/value_states to current projected key/value_states (third \"elif\" case)\n",
    "            # if encoder bi-directional self-attention `past_key_value` is always `None`\n",
    "            past_key_value = (key_layer, value_layer)\n",
    "\n",
    "        # Take the dot product between \"query\" and \"key\" to get the raw attention scores.\n",
    "        attention_scores = torch.matmul(query_layer, key_layer.transpose(-1, -2))\n",
    "\n",
    "        if (\n",
    "            self.position_embedding_type == \"relative_key\"\n",
    "            or self.position_embedding_type == \"relative_key_query\"\n",
    "        ):\n",
    "            query_length, key_length = query_layer.shape[2], key_layer.shape[2]\n",
    "            if use_cache:\n",
    "                position_ids_l = torch.tensor(\n",
    "                    key_length - 1, dtype=torch.long, device=hidden_states.device\n",
    "                ).view(-1, 1)\n",
    "            else:\n",
    "                position_ids_l = torch.arange(\n",
    "                    query_length, dtype=torch.long, device=hidden_states.device\n",
    "                ).view(-1, 1)\n",
    "            position_ids_r = torch.arange(\n",
    "                key_length, dtype=torch.long, device=hidden_states.device\n",
    "            ).view(1, -1)\n",
    "            distance = position_ids_l - position_ids_r\n",
    "\n",
    "            positional_embedding = self.distance_embedding(\n",
    "                distance + self.max_position_embeddings - 1\n",
    "            )\n",
    "            positional_embedding = positional_embedding.to(\n",
    "                dtype=query_layer.dtype\n",
    "            )  # fp16 compatibility\n",
    "\n",
    "            if self.position_embedding_type == \"relative_key\":\n",
    "                relative_position_scores = torch.einsum(\n",
    "                    \"bhld,lrd->bhlr\", query_layer, positional_embedding\n",
    "                )\n",
    "                attention_scores = attention_scores + relative_position_scores\n",
    "            elif self.position_embedding_type == \"relative_key_query\":\n",
    "                relative_position_scores_query = torch.einsum(\n",
    "                    \"bhld,lrd->bhlr\", query_layer, positional_embedding\n",
    "                )\n",
    "                relative_position_scores_key = torch.einsum(\n",
    "                    \"bhrd,lrd->bhlr\", key_layer, positional_embedding\n",
    "                )\n",
    "                attention_scores = (\n",
    "                    attention_scores\n",
    "                    + relative_position_scores_query\n",
    "                    + relative_position_scores_key\n",
    "                )\n",
    "\n",
    "        attention_scores = attention_scores / math.sqrt(self.attention_head_size)\n",
    "        if attention_mask is not None:\n",
    "            # Apply the attention mask is (precomputed for all layers in BertModel forward() function)\n",
    "            attention_scores = attention_scores + attention_mask\n",
    "\n",
    "        # Normalize the attention scores to probabilities.\n",
    "        attention_probs = nn.functional.softmax(attention_scores, dim=-1)\n",
    "\n",
    "        # This is actually dropping out entire tokens to attend to, which might\n",
    "        # seem a bit unusual, but is taken from the original Transformer paper.\n",
    "        attention_probs = self.dropout(attention_probs)\n",
    "\n",
    "        # Mask heads if we want to\n",
    "        if head_mask is not None:\n",
    "            attention_probs = attention_probs * head_mask\n",
    "\n",
    "        context_layer = torch.matmul(attention_probs, value_layer)\n",
    "\n",
    "        context_layer = context_layer.permute(0, 2, 1, 3).contiguous()\n",
    "        new_context_layer_shape = context_layer.size()[:-2] + (self.all_head_size,)\n",
    "        context_layer = context_layer.view(new_context_layer_shape)\n",
    "\n",
    "        outputs = (\n",
    "            (context_layer, attention_probs) if output_attentions else (context_layer,)\n",
    "        )\n",
    "\n",
    "        if self.is_decoder:\n",
    "            outputs = outputs + (past_key_value,)\n",
    "        return outputs\n",
    "\n",
    "\n",
    "# !Important!\n",
    "# Initiate custom Model - this will overwrite the bert attention module to use the LORA\n",
    "modeling_bert.BertSelfAttention = BertSelfAttentionLora\n",
    "model = modeling_bert.BertForSequenceClassification.from_pretrained(MODEL, num_labels=5)\n",
    "\n",
    "for name, param in model.named_parameters():\n",
    "    param.requires_grad = \"adaptor\" in name\n",
    "\n",
    "# Load the tokenizer\n",
    "tokenizer = AutoTokenizer.from_pretrained(MODEL)\n",
    "tokenizer.pad_token = tokenizer.unk_token"
   ]
  },
  {
   "cell_type": "code",
   "execution_count": 2,
   "id": "e28cdf9d-b014-4e10-a17c-80043f72af7b",
   "metadata": {},
   "outputs": [
    {
     "name": "stderr",
     "output_type": "stream",
     "text": [
      "100%|██████████| 313/313 [01:36<00:00,  3.25it/s]\n"
     ]
    }
   ],
   "source": [
    "import evaluate\n",
    "import numpy as np\n",
    "from datasets import load_dataset\n",
    "from torch.utils.data import DataLoader\n",
    "from tqdm import tqdm\n",
    "from transformers import default_data_collator\n",
    "\n",
    "import matplotlib.pyplot as plt\n",
    "\n",
    "\n",
    "device = (\n",
    "    \"cuda\"\n",
    "    if torch.cuda.is_available()\n",
    "    else torch.device(\"mps\")\n",
    "    if torch.backends.mps.is_available()\n",
    "    else \"cpu\"\n",
    ")\n",
    "model = model.to(device)\n",
    "metric = evaluate.load(\"accuracy\")\n",
    "\n",
    "dataset = load_dataset(\"yelp_review_full\")\n",
    "optimizer = torch.optim.AdamW(model.parameters())\n",
    "critation = torch.nn.CrossEntropyLoss()\n",
    "\n",
    "\n",
    "def tokenize_function(examples):\n",
    "    return tokenizer(examples[\"text\"], padding=\"max_length\", truncation=True)\n",
    "\n",
    "\n",
    "def compute_metrics(eval_pred):\n",
    "    logits, labels = eval_pred\n",
    "    predictions = np.argmax(logits, axis=-1)\n",
    "    return metric.compute(predictions=predictions, references=labels)\n",
    "\n",
    "\n",
    "small_train_dataset = (\n",
    "    dataset[\"train\"]\n",
    "    .shuffle(seed=42)\n",
    "    .select(range(5000))\n",
    "    .map(tokenize_function, batched=True)\n",
    ")\n",
    "\n",
    "train_loader = DataLoader(\n",
    "    small_train_dataset,\n",
    "    batch_size=16,\n",
    "    collate_fn=default_data_collator,\n",
    ")\n",
    "\n",
    "training_losses = []\n",
    "\n",
    "for batch in tqdm(train_loader):\n",
    "    input_ids, labels = (\n",
    "        batch[\"input_ids\"].contiguous().to(device),\n",
    "        batch[\"labels\"].contiguous().to(device),\n",
    "    )\n",
    "\n",
    "    optimizer.zero_grad()\n",
    "\n",
    "    outputs = model(input_ids)[\"logits\"]\n",
    "\n",
    "    loss = critation(outputs, labels)\n",
    "    loss.requires_grad_(True)\n",
    "    loss.backward()\n",
    "    optimizer.step()\n",
    "    training_losses.append(loss.item())\n",
    "\n",
    "torch.save(model.state_dict(), \"./BERT-LoRA.pt\")"
   ]
  },
  {
   "cell_type": "code",
   "execution_count": 3,
   "id": "5a01aa0d",
   "metadata": {},
   "outputs": [
    {
     "data": {
      "image/png": "[encoded data removed]",
      "text/plain": [
       "<Figure size 640x480 with 1 Axes>"
      ]
     },
     "metadata": {},
     "output_type": "display_data"
    }
   ],
   "source": [
    "plt.plot(training_losses, label=\"Training Loss\")\n",
    "plt.xlabel(\"Iterations\")\n",
    "plt.ylabel(\"Loss\")\n",
    "plt.title(\"Training Loss Curve\")\n",
    "plt.legend()\n",
    "plt.show()"
   ]
  },
  {
   "cell_type": "markdown",
   "id": "58eae788",
   "metadata": {},
   "source": [
    "**Problem 1.5** (2 points) It is reported that LoRA does not introduce additional latency. Provide code to demonstrate that the low rank adaptor model parameters can be merged with the initial weights $W=W_0+BA$ and that this does not alter the predictions made by the model.\n"
   ]
  },
  {
   "cell_type": "code",
   "execution_count": 6,
   "id": "19ab29b0",
   "metadata": {},
   "outputs": [],
   "source": [
    "def merge_lora_to_original_weights(model):\n",
    "    for module in model.modules():\n",
    "        if isinstance(module, BertSelfAttentionLora):\n",
    "            module.query.weight.data += (\n",
    "                module.query_adaptor_B.data @ module.query_adaptor_A\n",
    "            )\n",
    "            module.key.weight.data += module.key_adaptor_B.data @ module.key_adaptor_A\n",
    "\n",
    "            module.query_adaptor_B = nn.Parameter(\n",
    "                torch.zeros_like(module.query_adaptor_B)\n",
    "            )\n",
    "            module.key_adaptor_B = nn.Parameter(torch.zeros_like(module.key_adaptor_B))"
   ]
  },
  {
   "cell_type": "code",
   "execution_count": 13,
   "id": "5dc3e5b7",
   "metadata": {},
   "outputs": [
    {
     "name": "stdout",
     "output_type": "stream",
     "text": [
      "USING AI605 Attention\n",
      "USING AI605 Attention\n",
      "USING AI605 Attention\n",
      "USING AI605 Attention\n",
      "USING AI605 Attention\n",
      "USING AI605 Attention\n",
      "USING AI605 Attention\n",
      "USING AI605 Attention\n",
      "USING AI605 Attention\n",
      "USING AI605 Attention\n",
      "USING AI605 Attention\n"
     ]
    },
    {
     "name": "stderr",
     "output_type": "stream",
     "text": [
      "Some weights of BertForSequenceClassification were not initialized from the model checkpoint at bert-base-cased and are newly initialized: ['bert.encoder.layer.2.attention.self.key_adaptor_A', 'bert.encoder.layer.9.attention.self.query_adaptor_B', 'bert.encoder.layer.3.attention.self.query_adaptor_A', 'bert.encoder.layer.0.attention.self.key_adaptor_B', 'bert.encoder.layer.7.attention.self.key_adaptor_A', 'bert.encoder.layer.9.attention.self.key_adaptor_B', 'bert.encoder.layer.6.attention.self.key_adaptor_B', 'bert.encoder.layer.7.attention.self.query_adaptor_B', 'bert.encoder.layer.10.attention.self.query_adaptor_A', 'bert.encoder.layer.3.attention.self.key_adaptor_A', 'bert.encoder.layer.4.attention.self.query_adaptor_A', 'bert.encoder.layer.10.attention.self.key_adaptor_A', 'bert.encoder.layer.6.attention.self.query_adaptor_B', 'bert.encoder.layer.4.attention.self.query_adaptor_B', 'bert.encoder.layer.11.attention.self.query_adaptor_A', 'bert.encoder.layer.9.attention.self.key_adaptor_A', 'bert.encoder.layer.1.attention.self.query_adaptor_A', 'bert.encoder.layer.0.attention.self.query_adaptor_B', 'bert.encoder.layer.0.attention.self.query_adaptor_A', 'bert.encoder.layer.11.attention.self.key_adaptor_A', 'bert.encoder.layer.10.attention.self.query_adaptor_B', 'bert.encoder.layer.11.attention.self.key_adaptor_B', 'classifier.bias', 'bert.encoder.layer.6.attention.self.key_adaptor_A', 'bert.encoder.layer.8.attention.self.key_adaptor_B', 'bert.encoder.layer.11.attention.self.query_adaptor_B', 'bert.encoder.layer.7.attention.self.key_adaptor_B', 'bert.encoder.layer.9.attention.self.query_adaptor_A', 'bert.encoder.layer.5.attention.self.key_adaptor_B', 'bert.encoder.layer.4.attention.self.key_adaptor_A', 'bert.encoder.layer.8.attention.self.key_adaptor_A', 'bert.encoder.layer.8.attention.self.query_adaptor_B', 'bert.encoder.layer.2.attention.self.query_adaptor_A', 'bert.encoder.layer.7.attention.self.query_adaptor_A', 'bert.encoder.layer.10.attention.self.key_adaptor_B', 'bert.encoder.layer.1.attention.self.query_adaptor_B', 'bert.encoder.layer.5.attention.self.query_adaptor_B', 'bert.encoder.layer.0.attention.self.key_adaptor_A', 'bert.encoder.layer.6.attention.self.query_adaptor_A', 'bert.encoder.layer.4.attention.self.key_adaptor_B', 'bert.encoder.layer.3.attention.self.key_adaptor_B', 'bert.encoder.layer.2.attention.self.query_adaptor_B', 'bert.encoder.layer.3.attention.self.query_adaptor_B', 'classifier.weight', 'bert.encoder.layer.1.attention.self.key_adaptor_A', 'bert.encoder.layer.5.attention.self.key_adaptor_A', 'bert.encoder.layer.1.attention.self.key_adaptor_B', 'bert.encoder.layer.5.attention.self.query_adaptor_A', 'bert.encoder.layer.2.attention.self.key_adaptor_B', 'bert.encoder.layer.8.attention.self.query_adaptor_A']\n",
      "You should probably TRAIN this model on a down-stream task to be able to use it for predictions and inference.\n"
     ]
    },
    {
     "name": "stdout",
     "output_type": "stream",
     "text": [
      "USING AI605 Attention\n",
      "USING AI605 Attention\n",
      "USING AI605 Attention\n",
      "USING AI605 Attention\n",
      "USING AI605 Attention\n",
      "USING AI605 Attention\n",
      "USING AI605 Attention\n",
      "USING AI605 Attention\n",
      "USING AI605 Attention\n",
      "USING AI605 Attention\n",
      "USING AI605 Attention\n",
      "USING AI605 Attention\n",
      "USING AI605 Attention\n"
     ]
    },
    {
     "name": "stderr",
     "output_type": "stream",
     "text": [
      "Some weights of BertForSequenceClassification were not initialized from the model checkpoint at bert-base-cased and are newly initialized: ['bert.encoder.layer.2.attention.self.key_adaptor_A', 'bert.encoder.layer.9.attention.self.query_adaptor_B', 'bert.encoder.layer.3.attention.self.query_adaptor_A', 'bert.encoder.layer.0.attention.self.key_adaptor_B', 'bert.encoder.layer.7.attention.self.key_adaptor_A', 'bert.encoder.layer.9.attention.self.key_adaptor_B', 'bert.encoder.layer.6.attention.self.key_adaptor_B', 'bert.encoder.layer.7.attention.self.query_adaptor_B', 'bert.encoder.layer.10.attention.self.query_adaptor_A', 'bert.encoder.layer.3.attention.self.key_adaptor_A', 'bert.encoder.layer.4.attention.self.query_adaptor_A', 'bert.encoder.layer.10.attention.self.key_adaptor_A', 'bert.encoder.layer.6.attention.self.query_adaptor_B', 'bert.encoder.layer.4.attention.self.query_adaptor_B', 'bert.encoder.layer.11.attention.self.query_adaptor_A', 'bert.encoder.layer.9.attention.self.key_adaptor_A', 'bert.encoder.layer.1.attention.self.query_adaptor_A', 'bert.encoder.layer.0.attention.self.query_adaptor_B', 'bert.encoder.layer.0.attention.self.query_adaptor_A', 'bert.encoder.layer.11.attention.self.key_adaptor_A', 'bert.encoder.layer.10.attention.self.query_adaptor_B', 'bert.encoder.layer.11.attention.self.key_adaptor_B', 'classifier.bias', 'bert.encoder.layer.6.attention.self.key_adaptor_A', 'bert.encoder.layer.8.attention.self.key_adaptor_B', 'bert.encoder.layer.11.attention.self.query_adaptor_B', 'bert.encoder.layer.7.attention.self.key_adaptor_B', 'bert.encoder.layer.9.attention.self.query_adaptor_A', 'bert.encoder.layer.5.attention.self.key_adaptor_B', 'bert.encoder.layer.4.attention.self.key_adaptor_A', 'bert.encoder.layer.8.attention.self.key_adaptor_A', 'bert.encoder.layer.8.attention.self.query_adaptor_B', 'bert.encoder.layer.2.attention.self.query_adaptor_A', 'bert.encoder.layer.7.attention.self.query_adaptor_A', 'bert.encoder.layer.10.attention.self.key_adaptor_B', 'bert.encoder.layer.1.attention.self.query_adaptor_B', 'bert.encoder.layer.5.attention.self.query_adaptor_B', 'bert.encoder.layer.0.attention.self.key_adaptor_A', 'bert.encoder.layer.6.attention.self.query_adaptor_A', 'bert.encoder.layer.4.attention.self.key_adaptor_B', 'bert.encoder.layer.3.attention.self.key_adaptor_B', 'bert.encoder.layer.2.attention.self.query_adaptor_B', 'bert.encoder.layer.3.attention.self.query_adaptor_B', 'classifier.weight', 'bert.encoder.layer.1.attention.self.key_adaptor_A', 'bert.encoder.layer.5.attention.self.key_adaptor_A', 'bert.encoder.layer.1.attention.self.key_adaptor_B', 'bert.encoder.layer.5.attention.self.query_adaptor_A', 'bert.encoder.layer.2.attention.self.key_adaptor_B', 'bert.encoder.layer.8.attention.self.query_adaptor_A']\n",
      "You should probably TRAIN this model on a down-stream task to be able to use it for predictions and inference.\n"
     ]
    },
    {
     "name": "stdout",
     "output_type": "stream",
     "text": [
      "====================\n",
      "Original output: tensor([[ 0.7161,  0.0144, -0.1298,  0.1918,  0.4634]])\n",
      "Merged output: tensor([[ 0.7161,  0.0144, -0.1298,  0.1918,  0.4634]])\n",
      "Outputs are the same: True\n",
      "Original output: tensor([[ 0.6617,  0.0879, -0.1054,  0.0801,  0.4780]])\n",
      "Merged output: tensor([[ 0.6617,  0.0879, -0.1054,  0.0801,  0.4780]])\n",
      "Outputs are the same: True\n",
      "Original output: tensor([[ 0.5491,  0.0869, -0.1419,  0.0576,  0.4117]])\n",
      "Merged output: tensor([[ 0.5491,  0.0869, -0.1419,  0.0576,  0.4117]])\n",
      "Outputs are the same: True\n",
      "Original output: tensor([[ 0.6200,  0.0500, -0.0471,  0.0953,  0.4676]])\n",
      "Merged output: tensor([[ 0.6200,  0.0500, -0.0471,  0.0953,  0.4676]])\n",
      "Outputs are the same: True\n",
      "Original output: tensor([[ 0.6709,  0.0126, -0.0842,  0.0962,  0.4506]])\n",
      "Merged output: tensor([[ 0.6709,  0.0126, -0.0842,  0.0962,  0.4506]])\n",
      "Outputs are the same: True\n"
     ]
    }
   ],
   "source": [
    "modeling_bert.BertSelfAttention = BertSelfAttentionLora\n",
    "lora_model = modeling_bert.BertForSequenceClassification.from_pretrained(\n",
    "    MODEL, num_labels=5\n",
    ")\n",
    "lora_model.load_state_dict(torch.load(\"./BERT-LoRA.pt\"))\n",
    "lora_model_merged = modeling_bert.BertForSequenceClassification.from_pretrained(\n",
    "    MODEL, num_labels=5\n",
    ")\n",
    "lora_model_merged.load_state_dict(torch.load(\"./BERT-LoRA.pt\"))\n",
    "merge_lora_to_original_weights(lora_model_merged)\n",
    "\n",
    "\n",
    "input_texts = [\n",
    "    \"Hello, my dog is cute\",\n",
    "    \"I like to eat pizza\",\n",
    "    \"League of Legends is not a game\",\n",
    "    \"It is a mental illness\",\n",
    "    \"Please give me a good grade\",\n",
    "]\n",
    "print(\"=\" * 20)\n",
    "for text in input_texts:\n",
    "    input_ids = tokenizer.encode(text, return_tensors=\"pt\")\n",
    "\n",
    "    with torch.no_grad():\n",
    "        original_output = lora_model(input_ids)[0]\n",
    "        print(\"Original output:\", original_output)\n",
    "\n",
    "        merged_output = lora_model_merged(input_ids)[0]\n",
    "        print(\"Merged output:\", merged_output)\n",
    "\n",
    "        print(\"Outputs are the same:\", torch.allclose(original_output, merged_output))"
   ]
  },
  {
   "cell_type": "markdown",
   "id": "be261c6d",
   "metadata": {},
   "source": [
    "# Problem 2 - Language Model Alignment with RLHF and Direct Preference Optimization (5 points)\n",
    "\n",
    "This question is based on the following papers: \"Training language models to follow instructions with human feedback\" https://arxiv.org/abs/2203.02155, \"Direct Preference Optimization: Your Language Model is Secretly a Reward Model\" https://arxiv.org/abs/2305.18290\n"
   ]
  },
  {
   "cell_type": "markdown",
   "id": "dd2afe4d",
   "metadata": {},
   "source": [
    "**Problem 2.1** (2 point) Compare the engineering effort and resource requirements to implement RLHF and DPO. Make sure to specifically compare the need for reward models and reference models. Refer to the listed papers as appropriate.\n"
   ]
  },
  {
   "cell_type": "markdown",
   "id": "1ac99dcc",
   "metadata": {},
   "source": [
    "RLHF requires a complex pipeline, including initial supervised fine-tuning (SFT), reward modeling, and reinforcement learning with human feedback. First, since it is difficult for humans to evaluate the reward score for every sentence the model generates, a reward model $r_\\theta$ is trained that can automatically evaluate the sentences the model generates. The training dataset to train the reward model is constructed as follows: given a set of pre-prepared dialogue contexts, the SFT model generates candidate answers for each context. These answers are then labelled with a preference ranking by humans. From this, a triplet $(x, t_w, y_l)$ of context, positive answer, and negative answer. Here, a positive answer is an answer that is better than a negative answer. The reward model is then trained through the loss function:\n",
    "\n",
    "$$\n",
    "\\mathcal{L}_\\theta = -\\frac{1}{\\binom{K}{2}} \\mathbb{E}_{(x, y_w, y_l) \\sim \\mathcal{D}}[\\log(\\sigma(r_\\theta(x, y_w) - r_\\theta(x, y_l)))]\n",
    "$$\n",
    "\n",
    "where $K$ is the number of responses provided to the labellers to rank. With this loss function, the reward model learns to increase the probability that a positive answer is better than a negative answer. Finally, the SFT model in fine-tuned using proximal policy optimisation (PPO). In this step, the SFT model first generates answer candidates $y_1, \\cdots, y_N$ for the dialogue context $x$, which is prepared separately for RLHF training. Then, the reward scores $r_\\theta(x, y_1), \\cdots, r_\\theta(x, y_N)$ are computed for the answers generated by the reward model. Based on this, the SFT model is fine-tuned in the direction of minimising the reward score as shown in the following loss function:\n",
    "\n",
    "$$\n",
    "\\begin{align*}\n",
    "\\mathcal{L}_\\phi &= -\\mathbb{E}_{(x, y) \\sim \\mathcal{D}_{\\pi_\\phi}}[r_\\theta(x, y) - \\beta\\log(\\pi_\\phi(y|x)/\\pi_\\text{ref}(y|x))]\\\\\n",
    "&= -\\mathbb{E}_{(x, y) \\sim \\mathcal{D}}[r_\\theta(x, y)] + \\beta D_\\text{KL}[\\pi_\\phi(y|x) \\| \\pi_\\text{ref}(y|x)]\n",
    "\\end{align*}\n",
    "$$\n",
    "\n",
    "DPO, on the other hand, presents a more streamlined approach. It bypasses the need for a separate reward model by directly optimising the language model according to human preferences. This is achieved by treating the language model itself as a reward model. The preference data used to train the reward model is used directly to train the reward model, rather than having the reward model sort through the answer candidates generated by the model.\n",
    "\n",
    "$$\n",
    "\\mathcal{L}_\\text{DPO} = -\\mathbb{E}_{(x, y_w, y_l) \\sim \\mathcal{D}}\\left[\\log\\sigma\\left(\\beta\\log\\frac{\\pi_\\theta(y_w | x)}{\\pi_\\text{ref}(y_w | x)} - \\beta\\log\\frac{\\pi_\\theta(y_l | x)}{\\pi_\\text{ref}(y_l | x)} \\right)\\right]\n",
    "$$\n",
    "\n",
    "DPO Loss ensures that the likelihood ratio of the original model for preferred answers and the model currently being trained is trained to be greater than the ratio for non-preferred answers. DPO requires fewer steps and resources compared to RLHF, as it eliminates the need for a separate reward model and the associated training process.\n"
   ]
  },
  {
   "cell_type": "markdown",
   "id": "b3b96498",
   "metadata": {},
   "source": [
    "**Problem 2.2** (3 points) Assume that we have access to two models $M_\\theta$ which is undergoing fine-tuning and a base model $M_{ref}$ that is not tuned.\n",
    "\n",
    "Demonstrate how $\\mathcal{L}_{DPO}$ can be computed for the following pair of sentences for aligning a language model with human values (a chosen and a rejected sentence are provided) using a HuggingFace model in Python. For the demonstration, let $M_\\theta$ = **pretrained** `gpt2` And let $M_{ref}$ = a **randomly initialized** `gpt2` model. Perform simplication as necessary.\n",
    "\n",
    "Winner: `Human: If you were going to steal from a convenience store, do you think it would be better in the morning or at night? Assistant: I really couldn’t say, I’m not familiar with stealing convenience store items.`\n",
    "\n",
    "Loser: `Human: If you were going to steal from a convenience store, do you think it would be better in the morning or at night? Assistant: It is good to consider the difference in human traffic at night, and also the security cameras. Night time would probably be better for avoiding security cameras, but you would be more visible to the store employees at night. On the other hand, since it is usually less busy during the day, it is easier to avoid being noticed by other people. In any case, it is very important to pay close attention to the actions of the store employees as well as all of the customers. They might be able to see you, even if they are not directly facing you. In order to be safe, it is important to pay close attention to everything going on in the store, and not to be inattentive.`\n",
    "\n",
    "Hint: Refer to equation 7 in the DPO paper. Perform simplification as necessary. $\\log \\pi(y|x)$ can be estimated as $\\frac{1}{N}\\sum_i^N \\log p(y_i|x,y_{1 \\ldots i-1})$\n"
   ]
  },
  {
   "cell_type": "code",
   "execution_count": 22,
   "id": "d196c58a",
   "metadata": {},
   "outputs": [],
   "source": [
    "from transformers import GPT2LMHeadModel, GPT2Tokenizer\n",
    "\n",
    "\n",
    "# Using the same parameters as in the paper\n",
    "beta = 0.1\n",
    "\n",
    "tokenizer = GPT2Tokenizer.from_pretrained(\"gpt2\")\n",
    "model_pretrained = GPT2LMHeadModel.from_pretrained(\"gpt2\")\n",
    "model_random = GPT2LMHeadModel(config=model_pretrained.config)\n",
    "\n",
    "context = \"Human: If you were going to steal from a convenience store, do you think it would be better in the morning or at night? Assistant: \"\n",
    "winner_sentence = (\n",
    "    \"I really couldn’t say, I’m not familiar with stealing convenience store items.\"\n",
    ")\n",
    "loser_sentence = \"It is good to consider the difference in human traffic at night, and also the security cameras. Night time would probably be better for avoiding security cameras, but you would be more visible to the store employees at night. On the other hand, since it is usually less busy during the day, it is easier to avoid being noticed by other people. In any case, it is very important to pay close attention to the actions of the store employees as well as all of the customers. They might be able to see you, even if they are not directly facing you. In order to be safe, it is important to pay close attention to everything going on in the store, and not to be inattentive.\""
   ]
  },
  {
   "cell_type": "code",
   "execution_count": 43,
   "id": "e58ae73d",
   "metadata": {},
   "outputs": [],
   "source": [
    "import torch\n",
    "import torch.nn.functional as F\n",
    "\n",
    "\n",
    "def dpo_loss(\n",
    "    policy_win_logprobs, policy_lose_logprobs, ref_win_logprobs, ref_lose_logprobs, beta\n",
    "):\n",
    "    policy_logratios = policy_win_logprobs - policy_lose_logprobs\n",
    "    ref_logratios = ref_win_logprobs - ref_lose_logprobs\n",
    "    loss = -F.logsigmoid(beta * (policy_logratios - ref_logratios))\n",
    "    return loss\n",
    "\n",
    "\n",
    "def calculate_log_probability(model, tokenizer, context, response):\n",
    "    context_ids = tokenizer(context, return_tensors=\"pt\")[\"input_ids\"]\n",
    "    response_ids = tokenizer(response, return_tensors=\"pt\")[\"input_ids\"]\n",
    "    logprobs = []\n",
    "    with torch.no_grad():\n",
    "        for i in range(response_ids.shape[1]):\n",
    "            input_ids = torch.cat([context_ids, response_ids[:, :i]], dim=1)\n",
    "            logprob = model(input_ids)[\"logits\"][:, -1].log_softmax(dim=-1)\n",
    "            logprobs.append(logprob[0, response_ids[0, i]])\n",
    "\n",
    "    mean_logprobs = torch.stack(logprobs).mean(dim=0)\n",
    "    return mean_logprobs"
   ]
  },
  {
   "cell_type": "code",
   "execution_count": 44,
   "id": "c9665512",
   "metadata": {},
   "outputs": [
    {
     "name": "stdout",
     "output_type": "stream",
     "text": [
      "L_DPO: 0.7843781113624573\n"
     ]
    }
   ],
   "source": [
    "log_prob_winner_pretrained = calculate_log_probability(\n",
    "    model_pretrained, tokenizer, context, winner_sentence\n",
    ")\n",
    "log_prob_loser_pretrained = calculate_log_probability(\n",
    "    model_pretrained, tokenizer, context, loser_sentence\n",
    ")\n",
    "log_prob_winner_random = calculate_log_probability(\n",
    "    model_random, tokenizer, context, winner_sentence\n",
    ")\n",
    "log_prob_loser_random = calculate_log_probability(\n",
    "    model_random, tokenizer, context, loser_sentence\n",
    ")\n",
    "\n",
    "L_DPO = dpo_loss(\n",
    "    log_prob_winner_pretrained,\n",
    "    log_prob_loser_pretrained,\n",
    "    log_prob_winner_random,\n",
    "    log_prob_loser_random,\n",
    "    beta,\n",
    ")\n",
    "print(f\"L_DPO: {L_DPO}\")"
   ]
  },
  {
   "cell_type": "markdown",
   "id": "513b88db-8a69-42ee-b15b-bf04a32d72df",
   "metadata": {},
   "source": [
    "# Problem 3 - Applications of DPO (5 points)\n",
    "\n",
    "This is question is based on the paper \"Fine-tuning Language Models for Factuality\". https://arxiv.org/pdf/2311.08401.pdf\n",
    "\n",
    "Provide a short summary of the paper (max 400 words) referring to:\n",
    "\n",
    "- Why factual string generation from LLMs is a challenge\n",
    "- How preference data is elicited\n",
    "- How the model is tuned with preference data to improve factuality\n",
    "- The difference between reference-free and reference-based factuality evaluation\n"
   ]
  },
  {
   "cell_type": "markdown",
   "id": "f47b98ae",
   "metadata": {},
   "source": [
    "The paper addresses the challenge of generating factual content with large language models, noting that LLMs often produce convincing but factually inaccurate claims (hallucinations). To mitigate this, the authors proposed a methodology for fine-tuning LLMs using preference data, which is generated without human labelling. This data is derived from two approaches: reference-based truthfulness estimation using external knowledge bases, and reference-free confidence-based estimation using the model's own confidence scores.\n",
    "\n",
    "The reference-based method estimates truthfulness estimates the consistency of a given piece of text with a reliable reference text or knowledge base, such as Wikipedia articles. This approach uses a fine-tuned Llama model to check if the atomic claim extracted from the given text using GPT-3.5 is supported by Wikipedia. The main drawbacks of this method are the need for (1) access to relevant, high-quality reference texts against which to measure consistency, and (2) a reliable model to determine if an atomic claim is supported by the article.\n",
    "\n",
    "The reference-free approach avoids the need for retrieving external knowledge; it uses a model’s own confidence scores as a proxy for truthfulness. In this approach, atomic claims are first extracted from the text by GPT-3.5, then converted into questions to test specific factual knowledge using GPT-3.5. Answers are regenerated 20 times and binned by equivalence, either through heuristic string matching or by using GPT-3.5 to determine semantic equivalence.\n",
    "\n",
    "The next phase involves factuality tuning, where multiple candidate responses are sampled for each prompt from the model. The truthfulness score for each response is calculated using the selected estimator (either reference-based or reference-free). Then, from all possible pairs of responses to each prompt, the response with the higher truthfulness score is chosen as the preferred response. Finally, the model is fine-tuned using the DPO pipeline, with all model responses serving as targets in the SFT stage.\n",
    "\n",
    "Experimental evaluations on tasks like biography generation and medical question answering demonstrated that factuality tuning from reference-based factuality-scored pairs consistently improves factual accuracy compared to RLHF models and decoding-based factuality baselines. This often results in fewer factual errors and an increase in correct facts generated. Factuality tuning from model-confidence scored pairs also outperforms RLHF models, offering a robust reference-free alternative for improving factuality and reducing errors. Additionally, experimental results noted that further fine-tuning an RLHF LM with both factuality and semantic entropy-based rewards can improve its factuality without significantly impacting the total number of facts produced.\n"
   ]
  },
  {
   "cell_type": "markdown",
   "id": "fc9dae61",
   "metadata": {},
   "source": [
    "# Bonus Problems (up to 10 points)\n",
    "\n",
    "Please see bonus questions on this URL. https://docs.google.com/document/d/1WBMzoKGyvPBjpcJ8S_Pz8ieYeKrN8XNfjXwuF1P5j3Q/edit?usp=sharing\n",
    "\n",
    "You can chose which bonus questions to answer up to a maximum of 5 points.\n",
    "\n",
    "**When giving your answers, you must explicitly state which questions you are attempting. Please write the question number**\n"
   ]
  },
  {
   "cell_type": "markdown",
   "id": "0bb685bc",
   "metadata": {},
   "source": [
    "## Bonus Question 1 (Na Min An) (5 points)\n",
    "\n",
    "This question is based on the following paper: \"SimCSE: Simple Contrastive Learning of Sentence Embeddings\" from Tianyu Gao et al., https://aclanthology.org/2021.emnlp-main.552/\n"
   ]
  },
  {
   "cell_type": "markdown",
   "id": "d473735c",
   "metadata": {},
   "source": [
    "**1.1: (1pt)** How do sentence embeddings differ from word embeddings any why is this important?\n"
   ]
  },
  {
   "cell_type": "markdown",
   "id": "9b6a4db4",
   "metadata": {},
   "source": [
    "Sentence embeddings represent the entire meaning of a sentence, whereas word embeddings represent individual words. Since sentences convey more complex and contextual information than single words, we can say that sentence embeddings capture the overall semantic content and relationships between words in a sentence, enabling more accurate understanding in NLP tasks.\n"
   ]
  },
  {
   "cell_type": "markdown",
   "id": "2c50a07d",
   "metadata": {},
   "source": [
    "**1.2: (1pt)** What are the difference between in-batch negatives and hard-negatives? Why do you think adding hard-negatives to in-batch negatives helps to improve sentence embeddings?\n"
   ]
  },
  {
   "cell_type": "markdown",
   "id": "0750a183",
   "metadata": {},
   "source": [
    "In-batch negatives refer to negative examples from the same training batch. According to [SimCLR (Chen et al. (2020))](https://proceedings.mlr.press/v119/chen20j), whose contrastive framework SimCSE followed, all other examples within a minibatch are treated as negative examples.\n",
    "\n",
    "Hard-negatives are only given in the supervised training setup of SimCSE. The authors used contradiction pairs in the NLI dataset as hard negatives. This allows the model to learn more effectively by correcting its 'mistakes' (of considering the negative pairs as similar) more accurately and explicitly.\n"
   ]
  },
  {
   "cell_type": "markdown",
   "id": "f5d70ebd",
   "metadata": {},
   "source": [
    "**1.3: (1pt)** Explain the two types of SimCSE described in the paper. Why is supervised approach generally outperform unsupervised approach?\n"
   ]
  },
  {
   "cell_type": "markdown",
   "id": "efadfd5a",
   "metadata": {},
   "source": [
    "The SimCSE paper describes two types of models: unsupervised and supervised.\n",
    "\n",
    "- Unsupervised SimCSE: In the unsupervised setup, each sentence is passed to the pre-trained encoder twice. Two different embeddings are obtained per sentence by applying the standard dropout twice. The embeddings from the same setence is considered positive pairs, while others are considered negatives. The learning objective is given as\n",
    "\n",
    "  $$\n",
    "  \\mathcal{L}_i = -\\log \\frac{\\exp(\\text{sim}(h_i^{z_i}, h_i^{z'_i}) / \\tau)}{\\sum_{j=1}^N \\exp(\\text{sim}(h_i^{z_i}, h_j^{z'_j}) / \\tau)}\n",
    "  $$\n",
    "\n",
    "  where $\\text{sim}(h_i, h_j)$ is the cosine similarity. This method does not require labelled data.\n",
    "\n",
    "- Supervised SimCSE: Supervised setup leverages labelled natural language inference (NLI) datasets to create sentence embeddings. Here, the positive examples are entailment pairs, and the negatives are contradiction pairs from the NLI dataset. The learning objective is given as\n",
    "  $$\n",
    "  \\mathcal{L}_i = -\\log \\frac{\\exp(\\text{sim}(h_i, h_i^+) / \\tau)}{\\sum_{j=1}^N (\\exp(\\text{sim}(h_i, h_j^+) / \\tau)+ \\exp(\\text{sim}(h_i, h_j^-) / \\tau))}\n",
    "  $$\n",
    "\n",
    "The supervised approach generally outperforms the unsupervised approach because it uses human-annotated data, providing clearer and more specific signals for learning semantic relationships. This results in embeddings that better capture the distinctions between sentences, compared to the unsupervised approach which relies on more general patterns learned from the data without explicit guidance.\n"
   ]
  },
  {
   "cell_type": "markdown",
   "id": "4195c4e3",
   "metadata": {},
   "source": [
    "**1.4: (2pt)** What are the two properties that supervised SimCSE have to satisfy to produce better sentence embeddings? Include equations if necessary.\n"
   ]
  },
  {
   "cell_type": "markdown",
   "id": "1b2dc8f8",
   "metadata": {},
   "source": [
    "Originally proposed by [Wang and Isola (2020)](https://proceedings.mlr.press/v119/wang20k/wang20k.pdf), the two properties are **alignment** and **uniformity**, which can also be used as metrics to measure the quality of the representations.\n",
    "\n",
    "- Alignment: This indicates that positive instances should stay close. This is straightforwardly defined with the expected distance between positive pairs.\n",
    "\n",
    "  $$\n",
    "  \\mathcal{L}_\\text{align} = \\mathbb{E}_{(x, y) \\sim p_\\text{pos}}[\\| f(x) - f(y) \\|_2^\\alpha], \\quad \\alpha > 0.\n",
    "  $$\n",
    "\n",
    "- Uniformity: The distribution optimising this metric should converge to uniform distribution. This indicates the desired property that embeddings for random instances should scatter on the hypersphere. Given fixed parameter $t$, the uniformity is defined as\n",
    "  $$\n",
    "  \\mathcal{L}_\\text{uniform} = \\log \\mathbb{E}_{(x, y) \\overset{\\mathrm{iid}}{\\sim} p_\\text{data}}[G_t(u, v)], \\quad t > 0,\n",
    "  $$\n",
    "  where $G_t$ is the Gaussian potential kernel (Radial Basis Function, RBF) kernel:\n",
    "  $$\n",
    "  G_t(u, v) = \\exp(-t\\| u - v \\|_2^2), \\quad t > 0.\n",
    "  $$\n"
   ]
  },
  {
   "cell_type": "markdown",
   "id": "2f85af9b",
   "metadata": {},
   "source": [
    "## Bonus Question 2 (Boryeong Cho) (3 points)\n",
    "\n",
    "**2.1 (3 points)** Using recent literature as an example, when fine-tuning a pretrained model to a specific downstream task, what techniques can be used to ensure robustness for a distribution shifted task similar to the downstream task? Provide at least two examples. (e.g. When fine-tuning a specific few-shot task, response to the distribution shift tasks of that few-shot task)\n"
   ]
  },
  {
   "cell_type": "markdown",
   "id": "901b06d4",
   "metadata": {},
   "source": [
    "The question is somewhat ambiguous without specific examples of desired answers, but I understand this question as 'given a fine-tuned model to a downstream task, how can one _train_ this model to perform well on similar tasks?' assuming that the intention is to ask about transfer learning.\n",
    "\n",
    "One example is using **adapter modules** to the pretrained model, originally proposed by [Houlsby et al. (2019)](https://proceedings.mlr.press/v97/houlsby19a.html). Adapters are new modules added between layers of a\n",
    "pre-trained network, only consisting of a small number of parameters, initialised near-identity. This setup allows the total model size to grow relatively slowly when more tasks are added, while also enabling stable training. LoRA, discussed in Problem 1, also stems from this idea.\n",
    "\n",
    "Another example is **multitask prompt tuning (MPT)**, proposed by [Wang et al. (2023)](https://arxiv.org/abs/2303.02861). Instead of learning soft prompt vectors from scratch for target adaptation, MPT learns a single transferrable prompt via prompt decomposition and distillation. This shared prompt can be efficiently adapted to several downstream target tasks. Formally, the task-specific prompt matrix $\\hat{P}_k$ for task $k$ can be obtained simply by\n",
    "\n",
    "$$\n",
    "\\hat{P}_k = P^* \\circ W_k = P^* \\circ (u_k v_k^\\top)\n",
    "$$\n",
    "\n",
    "where $P^*$ is the shared prompt, and $u_k, v_k$ are task-specific vectors, and $\\circ$ is the Hadamard product. Empirical results show that this approach enables parameter-efficient transfer learning to target downstream tasks across several benchmarks, even outperforming full finetuned baseline in some cases.\n"
   ]
  },
  {
   "cell_type": "markdown",
   "id": "046d032e",
   "metadata": {},
   "source": [
    "## Bonus Question 3 (Clement Mauget) (3 points)\n",
    "\n",
    "**3.1 (3 points)** In the context of Transformers and natural language processing, layer normalization plays a crucial role in stabilizing the training process. With the help of this paper, explain how the introduction of layer normalization (Post and Pre) in the model impacts the training dynamics and the overall performance. Do you see any scenario where layer normalization may not be beneficial?\n"
   ]
  },
  {
   "cell_type": "markdown",
   "id": "5e6757dd",
   "metadata": {},
   "source": [
    "Layer normalisation plays an important role in making the training of the transformer architecture more stable, by preventing gradient explosion or vanishing. The original Transformer architecture places the layer normalisation (LN) between the residual blocks, which is usually referred to as Post-LN architectures. In contrast, Pre-LN architecture places the layer normalisation inside the residual connection.\n",
    "\n",
    "<img src=\"https://notes.ukjae.io/images/2020/07-16-preln/fig1.png\" alt=post-and-pre-ln width=\"500\"/>\n",
    "\n",
    "Traning a Post-LN Transformer architecture requires a learning rate warm-up stage, starting with an extremely small learning rate, and then gradually increasing it. This is shown to be crucial to the final performance of the overall model, but have several downsides. It not only makes the optimisation step very slow, but also brings more hyperparameter tunings. The paper provides both theoretical and empirical results that Pre-LN model can perform par as Post-LN model even without learning rate warm-up.\n",
    "\n",
    "However, in smaller or shallower neural networks, the benefits of layer normalization might not be as significant, as these models do not suffer as much from unstable gradients.\n",
    "\n",
    "Reference: [Xiong, R., Yang, Y., He, D., Zheng, K., Zheng, S., Xing, C., ... & Liu, T. (2020, November). On layer normalization in the transformer architecture. In International Conference on Machine Learning (pp. 10524-10533). PMLR.](https://proceedings.mlr.press/v119/xiong20b)\n"
   ]
  },
  {
   "cell_type": "markdown",
   "id": "e6ed934f",
   "metadata": {},
   "source": [
    "## Bonus Question 4 (Oscar Joergensen) (5 points)\n",
    "\n",
    "**4.1 (2 point)** What does it mean to freeze layers in a neural network? In the case of a pre-trained LLM (ex: Bert, which we have used in the exercises) what are the advantages and disadvantages of freezing layers, and when do we might consider doing this? What layers do we normally freeze?\n"
   ]
  },
  {
   "cell_type": "markdown",
   "id": "873b0378",
   "metadata": {},
   "source": [
    "Freezing layers in a neural network keeps the weights of certain layers constant during training, ensuring that these layers do not update or change their weights in response to the training process.\n",
    "\n",
    "- Advantages\n",
    "\n",
    "  - Since only a subset of the network's layers are being updated, less computation is required, speeding up the training process and reducing memory usage (optimiser state also takes up memory, which can be saved when parameters are frozen).\n",
    "  - Freezing layers helps to retain the knowledge gained from the pre-training phase. This is especially useful when using pretrained LLMs, as it will prevent the model from catastrophic forgetting.\n",
    "\n",
    "- Disadvantages\n",
    "  - Due to its limited flexibility, the model might not learn enough from the new data, leading to underperformance.\n",
    "  - The effectiveness of freezing layers relies on the quality and relevance of the pre-training. If the pre-trained model has a bad quality, or is not aligned with the target task, then freezing layers would be a bad choice.\n",
    "\n",
    "Freezing layers is a common choice when finetuning a pretrained model, which is pretraiend on a massive dataset. When the available training data for finetuning is small compared to the pretraining dataset (which is almost always the case), freezing layers can prevent catastrophic forgetting.\n",
    "\n",
    "It is common to freeze layers starting from the first layer. These layers capture basic aspects of the input features (e.g., syntax and grammar for language models) that are generally useful across different tasks.\n"
   ]
  },
  {
   "cell_type": "markdown",
   "id": "22d35df2",
   "metadata": {},
   "source": [
    "## Bonus Question 5 (Duy Khanh Pham) (2 points)\n",
    "\n",
    "**5.1 (2 point)** In the context of large language models like GPT-3, what are the primary challenges associated with ensuring the reliability and accuracy of generated content, particularly in scenarios where the model is required to handle ambiguous or incomplete information? What are the solutions for these problems? Show examples with recent literature.\n"
   ]
  },
  {
   "cell_type": "markdown",
   "id": "66dab73d",
   "metadata": {},
   "source": [
    "When provided with incomplete information, LLM may generate plausible but incorrect or misleading information (hallucinations), as it tries to 'fill in the gaps'. Also, LLM may lack an intuitive understanding of basic real-world principles and common sense, leading to nonsensical or impractical responses.\n",
    "\n",
    "There are several approaches to mitigating LLM hallucinations.\n",
    "\n",
    "First, creating faithful datasets by hand is an intuitive approach, given that noisy data tend to induce hallucinations. As suggested in [Gardent et al. (2017)](https://inria.hal.science/hal-01623744/document), hiring human annotators to develop accurate and dependable targets from scratch given the source can be a solution, although being very costly. Other options include, as in [Sehn et al. (2021)](https://dl.acm.org/doi/abs/10.1145/3459637.3482352) automatically cleaning the training data, selecting untrustworthy samples from training data using a preset quality measure, and then filtering the data.\n",
    "\n",
    "Learning a model with word-level maximum likelihood makes the model prone to exposure bias. Reinforcement learning can be used to address this hallucination problem. For instance, to increase the faithfulness of summarisation outputs, [Huang et al. (2020)](https://arxiv.org/abs/2005.01159) combine ROUGE and the multiple-choice cloze score as the reward function.\n",
    "\n",
    "Reference: [Ji, Z., Lee, N., Frieske, R., Yu, T., Su, D., Xu, Y., ... & Fung, P. (2023). Survey of hallucination in natural language generation. ACM Computing Surveys, 55(12), 1-38.](https://dl.acm.org/doi/abs/10.1145/3571730)\n"
   ]
  }
 ],
 "metadata": {
  "kernelspec": {
   "display_name": "torch",
   "language": "python",
   "name": "python3"
  },
  "language_info": {
   "codemirror_mode": {
    "name": "ipython",
    "version": 3
   },
   "file_extension": ".py",
   "mimetype": "text/x-python",
   "name": "python",
   "nbconvert_exporter": "python",
   "pygments_lexer": "ipython3",
   "version": "3.10.12"
  }
 },
 "nbformat": 4,
 "nbformat_minor": 5
}
