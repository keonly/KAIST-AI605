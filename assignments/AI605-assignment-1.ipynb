{
 "cells": [
  {
   "cell_type": "markdown",
   "id": "8324624d",
   "metadata": {},
   "source": [
    "# 2023 Fall AI605 Assignment 1: Recurrent Neural Networks\n",
    "\n",
    "## Rubric\n",
    "\n",
    "### Deadline\n",
    "\n",
    "The deadline for this assignment is: Friday 22nd September 2023 (Week 4) 11:59pm\n",
    "\n",
    "### Submission\n",
    "\n",
    "Please submit your assignment via [KLMS](https://klms.kaist.ac.kr). You must submit the Jupyter Notebook file (.ipynb) with all code and model outputs.\n",
    "\n",
    "Use in-line LaTeX for mathematical expressions.\n",
    "\n",
    "### Collaboration\n",
    "\n",
    "This assignment is an individual assingnment. It is **not** a group assignment so make sure your answer and code are your own.\n",
    "\n",
    "### Grading\n",
    "\n",
    "The total number of marks avaiable is 25 points.\n",
    "\n",
    "### Environment\n",
    "\n",
    "The use of a GPU is not required for this notebook. The suggested environment for this is Python 3.9. Run the following cell to set up the environment.\n",
    "\n",
    "### Data\n",
    "\n",
    "All problems will use the stanford sentiment treebank dataset. However, pre-procesing it can take a bit of work https://nlp.stanford.edu/~socherr/stanfordSentimentTreebank.zip. To save time, we will use the Huggingface implementation of the dataset: https://huggingface.co/datasets/sst\n",
    "\n",
    "### Libraries\n",
    "\n",
    "The following libraries should be used for the project. You should not need any other libraries.\n"
   ]
  },
  {
   "cell_type": "code",
   "execution_count": 1,
   "id": "32dcb9e2",
   "metadata": {},
   "outputs": [],
   "source": [
    "# !pip install torch tqdm datasets"
   ]
  },
  {
   "cell_type": "markdown",
   "id": "491c4769",
   "metadata": {},
   "source": [
    "# Problem 1 - MLP vs RNN (5 points)\n"
   ]
  },
  {
   "cell_type": "markdown",
   "id": "103700a1",
   "metadata": {},
   "source": [
    "This problem will make use of the stanford sentiment treebank dataset. We can load and partition the data with the following code\n"
   ]
  },
  {
   "cell_type": "code",
   "execution_count": 1,
   "id": "141b08ce",
   "metadata": {},
   "outputs": [
    {
     "data": {
      "application/vnd.jupyter.widget-view+json": {
       "model_id": "48423b80e9fe4aa4a3556094a1c237ea",
       "version_major": 2,
       "version_minor": 0
      },
      "text/plain": [
       "Downloading builder script:   0%|          | 0.00/9.13k [00:00<?, ?B/s]"
      ]
     },
     "metadata": {},
     "output_type": "display_data"
    },
    {
     "data": {
      "application/vnd.jupyter.widget-view+json": {
       "model_id": "e9945ba8ea574da8ac7ac1db3be57e99",
       "version_major": 2,
       "version_minor": 0
      },
      "text/plain": [
       "Downloading metadata:   0%|          | 0.00/5.99k [00:00<?, ?B/s]"
      ]
     },
     "metadata": {},
     "output_type": "display_data"
    },
    {
     "data": {
      "application/vnd.jupyter.widget-view+json": {
       "model_id": "9020fa52bc874812b120d5b2043a9c4b",
       "version_major": 2,
       "version_minor": 0
      },
      "text/plain": [
       "Downloading readme:   0%|          | 0.00/6.68k [00:00<?, ?B/s]"
      ]
     },
     "metadata": {},
     "output_type": "display_data"
    },
    {
     "data": {
      "application/vnd.jupyter.widget-view+json": {
       "model_id": "1a2a4aef6f1b493a8f9f669adcf0c19f",
       "version_major": 2,
       "version_minor": 0
      },
      "text/plain": [
       "Downloading data:   0%|          | 0.00/6.37M [00:00<?, ?B/s]"
      ]
     },
     "metadata": {},
     "output_type": "display_data"
    },
    {
     "data": {
      "application/vnd.jupyter.widget-view+json": {
       "model_id": "becce6526f4747c7b861bf7d9ee54448",
       "version_major": 2,
       "version_minor": 0
      },
      "text/plain": [
       "Downloading data:   0%|          | 0.00/790k [00:00<?, ?B/s]"
      ]
     },
     "metadata": {},
     "output_type": "display_data"
    },
    {
     "data": {
      "application/vnd.jupyter.widget-view+json": {
       "model_id": "d193fc47f914418a976f4003751d12e7",
       "version_major": 2,
       "version_minor": 0
      },
      "text/plain": [
       "Generating train split:   0%|          | 0/8544 [00:00<?, ? examples/s]"
      ]
     },
     "metadata": {},
     "output_type": "display_data"
    },
    {
     "data": {
      "application/vnd.jupyter.widget-view+json": {
       "model_id": "8052a62aab2f4469b0db0f6328225b97",
       "version_major": 2,
       "version_minor": 0
      },
      "text/plain": [
       "Generating validation split:   0%|          | 0/1101 [00:00<?, ? examples/s]"
      ]
     },
     "metadata": {},
     "output_type": "display_data"
    },
    {
     "data": {
      "application/vnd.jupyter.widget-view+json": {
       "model_id": "3958dc9393db41729ccece5b5ff61266",
       "version_major": 2,
       "version_minor": 0
      },
      "text/plain": [
       "Generating test split:   0%|          | 0/2210 [00:00<?, ? examples/s]"
      ]
     },
     "metadata": {},
     "output_type": "display_data"
    },
    {
     "name": "stdout",
     "output_type": "stream",
     "text": [
      "Raw Instance: {'sentence': \"The Rock is destined to be the 21st Century 's new `` Conan '' and that he 's going to make a splash even greater than Arnold Schwarzenegger , Jean-Claud Van Damme or Steven Segal .\", 'label': 0.6944400072097778, 'tokens': \"The|Rock|is|destined|to|be|the|21st|Century|'s|new|``|Conan|''|and|that|he|'s|going|to|make|a|splash|even|greater|than|Arnold|Schwarzenegger|,|Jean-Claud|Van|Damme|or|Steven|Segal|.\", 'tree': '70|70|68|67|63|62|61|60|58|58|57|56|56|64|65|55|54|53|52|51|49|47|47|46|46|45|40|40|41|39|38|38|43|37|37|69|44|39|42|41|42|43|44|45|50|48|48|49|50|51|52|53|54|55|66|57|59|59|60|61|62|63|64|65|66|67|68|69|71|71|0'}\n",
      "Tokens: ['The', 'Rock', 'is', 'destined', 'to', 'be', 'the', '21st', 'Century', \"'s\", 'new', '``', 'Conan', \"''\", 'and', 'that', 'he', \"'s\", 'going', 'to', 'make', 'a', 'splash', 'even', 'greater', 'than', 'Arnold', 'Schwarzenegger', ',', 'Jean-Claud', 'Van', 'Damme', 'or', 'Steven', 'Segal', '.']\n",
      "Label: positive\n",
      "***\n",
      "\n",
      "Raw Instance: {'sentence': \"The gorgeously elaborate continuation of `` The Lord of the Rings '' trilogy is so huge that a column of words can not adequately describe co-writer\\\\/director Peter Jackson 's expanded vision of J.R.R. Tolkien 's Middle-earth .\", 'label': 0.833329975605011, 'tokens': \"The|gorgeously|elaborate|continuation|of|``|The|Lord|of|the|Rings|''|trilogy|is|so|huge|that|a|column|of|words|can|not|adequately|describe|co-writer\\\\/director|Peter|Jackson|'s|expanded|vision|of|J.R.R.|Tolkien|'s|Middle-earth|.\", 'tree': '71|70|69|69|67|67|66|64|63|62|62|61|61|58|57|57|56|53|53|52|52|49|49|50|48|45|44|43|43|42|42|41|39|38|38|40|60|39|40|41|47|46|44|45|46|47|48|51|50|51|55|54|54|55|56|59|58|59|60|73|65|63|64|65|66|68|68|72|70|71|72|73|0'}\n",
      "Tokens: ['The', 'gorgeously', 'elaborate', 'continuation', 'of', '``', 'The', 'Lord', 'of', 'the', 'Rings', \"''\", 'trilogy', 'is', 'so', 'huge', 'that', 'a', 'column', 'of', 'words', 'can', 'not', 'adequately', 'describe', 'co-writer\\\\/director', 'Peter', 'Jackson', \"'s\", 'expanded', 'vision', 'of', 'J.R.R.', 'Tolkien', \"'s\", 'Middle-earth', '.']\n",
      "Label: strong positive\n",
      "***\n",
      "\n",
      "Raw Instance: {'sentence': 'Singer\\\\/composer Bryan Adams contributes a slew of songs -- a few potential hits , a few more simply intrusive to the story -- but the whole package certainly captures the intended , er , spirit of the piece .', 'label': 0.625, 'tokens': 'Singer\\\\/composer|Bryan|Adams|contributes|a|slew|of|songs|--|a|few|potential|hits|,|a|few|more|simply|intrusive|to|the|story|--|but|the|whole|package|certainly|captures|the|intended|,|er|,|spirit|of|the|piece|.', 'tree': '72|71|71|70|68|68|67|67|66|63|62|62|60|60|58|58|56|55|55|54|53|53|65|75|51|50|50|49|48|46|44|43|42|42|45|41|40|40|77|41|47|43|44|45|46|47|48|49|52|51|52|76|54|57|56|57|59|59|61|61|64|63|64|65|66|74|69|69|70|73|72|73|74|75|76|77|0'}\n",
      "Tokens: ['Singer\\\\/composer', 'Bryan', 'Adams', 'contributes', 'a', 'slew', 'of', 'songs', '--', 'a', 'few', 'potential', 'hits', ',', 'a', 'few', 'more', 'simply', 'intrusive', 'to', 'the', 'story', '--', 'but', 'the', 'whole', 'package', 'certainly', 'captures', 'the', 'intended', ',', 'er', ',', 'spirit', 'of', 'the', 'piece', '.']\n",
      "Label: positive\n",
      "***\n",
      "\n",
      "Raw Instance: {'sentence': \"You 'd think by now America would have had enough of plucky British eccentrics with hearts of gold .\", 'label': 0.5, 'tokens': \"You|'d|think|by|now|America|would|have|had|enough|of|plucky|British|eccentrics|with|hearts|of|gold|.\", 'tree': '36|35|34|33|33|32|30|29|27|26|25|24|23|23|22|21|20|20|31|21|22|28|24|25|26|27|28|29|30|31|32|37|34|35|36|37|0'}\n",
      "Tokens: ['You', \"'d\", 'think', 'by', 'now', 'America', 'would', 'have', 'had', 'enough', 'of', 'plucky', 'British', 'eccentrics', 'with', 'hearts', 'of', 'gold', '.']\n",
      "Label: neutral\n",
      "***\n",
      "\n",
      "Raw Instance: {'sentence': 'Yet the act is still charming here .', 'label': 0.7222200036048889, 'tokens': 'Yet|the|act|is|still|charming|here|.', 'tree': '15|13|13|10|9|9|11|12|10|11|12|14|14|15|0'}\n",
      "Tokens: ['Yet', 'the', 'act', 'is', 'still', 'charming', 'here', '.']\n",
      "Label: positive\n",
      "***\n",
      "\n"
     ]
    }
   ],
   "source": [
    "import datasets\n",
    "from itertools import islice\n",
    "\n",
    "sst = datasets.load_dataset(\"sst\")\n",
    "\n",
    "\n",
    "def score_to_label(score):\n",
    "    if score < 0.2:\n",
    "        return \"strong negative\"\n",
    "    elif score < 0.4:\n",
    "        return \"negative\"\n",
    "    elif score < 0.6:\n",
    "        return \"neutral\"\n",
    "    elif score < 0.8:\n",
    "        return \"positive\"\n",
    "    else:\n",
    "        return \"strong positive\"\n",
    "\n",
    "\n",
    "def score_to_idx(score):\n",
    "    if score < 0.2:\n",
    "        return 0\n",
    "    elif score < 0.4:\n",
    "        return 1\n",
    "    elif score < 0.6:\n",
    "        return 2\n",
    "    elif score < 0.8:\n",
    "        return 3\n",
    "    else:\n",
    "        return 4\n",
    "\n",
    "\n",
    "for instance in islice(sst[\"train\"], 5):\n",
    "    print(\"Raw Instance:\", instance)\n",
    "    print(\"Tokens:\", instance[\"tokens\"].split(\"|\"))\n",
    "    print(\"Label:\", score_to_label(instance[\"label\"]))\n",
    "    print(\"***\")\n",
    "    print()"
   ]
  },
  {
   "cell_type": "markdown",
   "id": "fb26124e",
   "metadata": {},
   "source": [
    "Below is an implementation of a dataset and classifier:\n",
    "\n",
    "### Read the data\n"
   ]
  },
  {
   "cell_type": "code",
   "execution_count": null,
   "id": "ff86706b",
   "metadata": {},
   "outputs": [],
   "source": [
    "UNK_TOKEN = \"<UNK>\"\n",
    "PAD_TOKEN = \"<PAD>\"\n",
    "word_to_idx = dict()\n",
    "word_to_idx[PAD_TOKEN] = 0\n",
    "for instance in sst[\"train\"]:\n",
    "    tokens = instance[\"tokens\"].split(\"|\")\n",
    "    for token in tokens:\n",
    "        token = token.lower()\n",
    "        if token not in word_to_idx:\n",
    "            word_to_idx[token] = len(word_to_idx)\n",
    "\n",
    "\n",
    "word_to_idx[UNK_TOKEN] = len(word_to_idx)\n",
    "print(word_to_idx)"
   ]
  },
  {
   "cell_type": "markdown",
   "id": "65f95924",
   "metadata": {},
   "source": [
    "### Load the data into a dataset object\n",
    "\n",
    "https://pytorch.org/tutorials/beginner/basics/data_tutorial.html\n"
   ]
  },
  {
   "cell_type": "code",
   "execution_count": 6,
   "id": "7399162d",
   "metadata": {},
   "outputs": [
    {
     "name": "stdout",
     "output_type": "stream",
     "text": [
      "Loaded: train 8544\n",
      "Example: {'tokens': ['The', 'Rock', 'is', 'destined', 'to', 'be', 'the', '21st', 'Century', \"'s\", 'new', '``', 'Conan', \"''\", 'and', 'that', 'he', \"'s\", 'going', 'to', 'make', 'a', 'splash', 'even', 'greater', 'than', 'Arnold', 'Schwarzenegger', ',', 'Jean-Claud', 'Van', 'Damme', 'or', 'Steven', 'Segal', '.'], 'token_idxs': [1, 2, 3, 4, 5, 6, 1, 7, 8, 9, 10, 11, 12, 13, 14, 15, 16, 9, 17, 5, 18, 19, 20, 21, 22, 23, 24, 25, 26, 27, 28, 29, 30, 31, 32, 33], 'label': 'positive', 'label_idx': 3}\n",
      "\n",
      "Loaded: validation 1101\n",
      "Example: {'tokens': ['It', \"'s\", 'a', 'lovely', 'film', 'with', 'lovely', 'performances', 'by', 'Buy', 'and', 'Accorsi', '.'], 'token_idxs': [132, 9, 19, 4074, 266, 93, 4074, 433, 83, 3873, 14, 16582, 33], 'label': 'positive', 'label_idx': 3}\n",
      "\n",
      "Example model input/output\n",
      "([132, 3, 913, 19, 914, 5, 1, 915, 14, 53, 37, 1, 916, 33], 3)\n"
     ]
    }
   ],
   "source": [
    "from torch.utils.data import Dataset\n",
    "\n",
    "\n",
    "class SSTDataset(Dataset):\n",
    "    def __init__(self, vocab, partition):\n",
    "        super().__init__()\n",
    "        self.instances = [\n",
    "            {\n",
    "                \"tokens\": instance[\"tokens\"].split(\"|\"),\n",
    "                \"token_idxs\": [\n",
    "                    vocab.get(token.lower(), vocab.get(UNK_TOKEN))\n",
    "                    for token in instance[\"tokens\"].split(\"|\")\n",
    "                ],\n",
    "                \"label\": score_to_label(instance[\"label\"]),\n",
    "                \"label_idx\": score_to_idx(instance[\"label\"]),\n",
    "            }\n",
    "            for instance in sst[partition]\n",
    "        ]\n",
    "\n",
    "        print(\"Loaded:\", partition, len(self.instances))\n",
    "        print(\"Example:\", self.instances[0])\n",
    "        print()\n",
    "\n",
    "    def __len__(self):\n",
    "        return len(self.instances)\n",
    "\n",
    "    def __getitem__(self, idx):\n",
    "        return self.instances[idx][\"token_idxs\"], self.instances[idx][\"label_idx\"]\n",
    "\n",
    "\n",
    "train = SSTDataset(word_to_idx, \"train\")\n",
    "validation = SSTDataset(word_to_idx, \"validation\")\n",
    "\n",
    "print(\"Example model input/output\")\n",
    "print(train[100])"
   ]
  },
  {
   "cell_type": "markdown",
   "id": "59748126",
   "metadata": {},
   "source": [
    "### Make Dataloader\n"
   ]
  },
  {
   "cell_type": "code",
   "execution_count": 7,
   "id": "03aaf616",
   "metadata": {},
   "outputs": [],
   "source": [
    "from torch.utils.data import DataLoader\n",
    "from torch.nn.functional import pad\n",
    "import torch\n",
    "\n",
    "\n",
    "def pad_and_collate(batch):\n",
    "    Xs = [item[0] for item in batch]\n",
    "    ys = [item[1] for item in batch]\n",
    "\n",
    "    # Find longest input\n",
    "    longest_x = max(len(x) for x in Xs)\n",
    "\n",
    "    # Fill remaining space in all other inputs with a 0 padding token\n",
    "    X_tensors = [pad(torch.LongTensor(x), (0, longest_x - len(x)), value=0) for x in Xs]\n",
    "\n",
    "    # Create one large matrix of Xs\n",
    "    X_tensors = torch.stack(X_tensors)\n",
    "    y_tensors = torch.stack([torch.LongTensor([y]) for y in ys]).squeeze()\n",
    "\n",
    "    return X_tensors, y_tensors\n",
    "\n",
    "\n",
    "train_loader = DataLoader(\n",
    "    train, batch_size=32, shuffle=True, collate_fn=pad_and_collate\n",
    ")\n",
    "validation_loader = DataLoader(\n",
    "    validation, batch_size=32, shuffle=True, collate_fn=pad_and_collate\n",
    ")"
   ]
  },
  {
   "cell_type": "markdown",
   "id": "a3be4bb2",
   "metadata": {},
   "source": [
    "### Define Model\n"
   ]
  },
  {
   "cell_type": "code",
   "execution_count": 49,
   "id": "79aa553d",
   "metadata": {},
   "outputs": [
    {
     "name": "stdout",
     "output_type": "stream",
     "text": [
      "Per class predictions on sample from model\n",
      "tensor([0.0333, 0.0581, 0.0712, 0.1170, 0.0473], grad_fn=<ViewBackward0>)\n",
      "Selected class\n",
      "3\n",
      "Actual class\n",
      "3\n",
      "Cross entropy loss\n"
     ]
    },
    {
     "data": {
      "text/plain": [
       "tensor(1.5582, grad_fn=<NllLossBackward0>)"
      ]
     },
     "execution_count": 49,
     "metadata": {},
     "output_type": "execute_result"
    }
   ],
   "source": [
    "from torch import nn\n",
    "from torch import functional as F\n",
    "\n",
    "num_embeddings = len(word_to_idx)\n",
    "num_labels = 5\n",
    "embedding_size = 100\n",
    "hidden_size = 50\n",
    "\n",
    "\n",
    "class MLPBaseline(nn.Module):\n",
    "    def __init__(self, num_embeddings, num_labels, embedding_dim, hidden_dim):\n",
    "        super(MLPBaseline, self).__init__()\n",
    "        self.embedding = nn.Embedding(num_embeddings, embedding_dim, padding_idx=0)\n",
    "\n",
    "        self.linear1 = nn.Linear(embedding_dim, hidden_dim)\n",
    "        self.linear2 = nn.Linear(hidden_dim, hidden_dim)\n",
    "        self.linear3 = nn.Linear(hidden_dim, hidden_dim)\n",
    "\n",
    "        self.nonlinear = torch.tanh\n",
    "        self.cls_layer = nn.Linear(hidden_dim, num_labels)\n",
    "\n",
    "    def forward(self, input_tensor):\n",
    "        emb = self.embedding(input_tensor)\n",
    "        summed = self.nonlinear(emb.mean(axis=-2))\n",
    "        hidden = self.nonlinear(self.linear1(summed))\n",
    "        hidden = self.nonlinear(self.linear2(hidden))\n",
    "        hidden = self.nonlinear(self.linear3(hidden))\n",
    "\n",
    "        logits = self.cls_layer(hidden)\n",
    "        return logits\n",
    "\n",
    "\n",
    "baseline = MLPBaseline(num_embeddings, num_labels, embedding_size, hidden_size)\n",
    "\n",
    "sample_input = torch.LongTensor(train[100][0])\n",
    "logits = baseline(sample_input)\n",
    "\n",
    "print(\"Per class predictions on sample from model\")\n",
    "print(logits)\n",
    "\n",
    "print(\"Selected class\")\n",
    "print(torch.argmax(logits).item())\n",
    "\n",
    "print(\"Actual class\")\n",
    "print(train[100][1])\n",
    "\n",
    "print(\"Cross entropy loss\")\n",
    "ce = nn.CrossEntropyLoss()\n",
    "# Note that the cross entropy loss function expects a batch of inputs, hence using unsqueeze function to make a batch of 1 item.\n",
    "ce(logits.unsqueeze(0), torch.LongTensor([train[100][1]]))"
   ]
  },
  {
   "cell_type": "markdown",
   "id": "45191ad1",
   "metadata": {},
   "source": [
    "### Train the model\n"
   ]
  },
  {
   "cell_type": "code",
   "execution_count": 50,
   "id": "d70f03f6",
   "metadata": {},
   "outputs": [
    {
     "name": "stdout",
     "output_type": "stream",
     "text": [
      "Epoch:  0\n",
      "Average training loss: 0.048203452389115255\n",
      "Average training acc: 0.31062734082397003\n",
      "\n",
      "Average validation loss: 0.04714240744155066\n",
      "Average validation acc: 0.3478655767484105\n",
      "\n",
      "\n",
      "Epoch:  1\n",
      "Average training loss: 0.043250743871771\n",
      "Average training acc: 0.39232209737827717\n",
      "\n",
      "Average validation loss: 0.04422772277170263\n",
      "Average validation acc: 0.3832879200726612\n",
      "\n",
      "\n",
      "Epoch:  2\n",
      "Average training loss: 0.0364966235552611\n",
      "Average training acc: 0.4874765917602996\n",
      "\n",
      "Average validation loss: 0.04603513699028299\n",
      "Average validation acc: 0.40054495912806537\n",
      "\n",
      "\n",
      "Epoch:  3\n",
      "Average training loss: 0.029745224270313866\n",
      "Average training acc: 0.6036985018726592\n",
      "\n",
      "Average validation loss: 0.05035406324021065\n",
      "Average validation acc: 0.3505903723887375\n",
      "\n",
      "\n",
      "Epoch:  4\n",
      "Average training loss: 0.022978426644418123\n",
      "Average training acc: 0.7210908239700374\n",
      "\n",
      "Average validation loss: 0.06000980326092102\n",
      "Average validation acc: 0.3478655767484105\n",
      "\n",
      "\n",
      "Epoch:  5\n",
      "Average training loss: 0.01685592338219564\n",
      "Average training acc: 0.8093398876404494\n",
      "\n",
      "Average validation loss: 0.06894231005000809\n",
      "Average validation acc: 0.35603996366939145\n",
      "\n",
      "\n"
     ]
    }
   ],
   "source": [
    "from torch.optim import Adam, SGD\n",
    "from torch.optim.lr_scheduler import LinearLR\n",
    "\n",
    "num_epochs = 6\n",
    "baseline = MLPBaseline(num_embeddings, num_labels, embedding_size, hidden_size)\n",
    "optimizer = Adam(baseline.parameters(), lr=0.005)\n",
    "scheduler = LinearLR(optimizer, total_iters=num_epochs)\n",
    "\n",
    "# Training loop\n",
    "for epoch in range(num_epochs):\n",
    "    train_loss_total = 0\n",
    "    train_acc_hits = 0\n",
    "    train_count = 0\n",
    "\n",
    "    valid_loss_total = 0\n",
    "    valid_acc_hits = 0\n",
    "    valid_count = 0\n",
    "\n",
    "    # Sample a batch of sentences Xs and labels ys from the dataset\n",
    "    for Xs, ys in train_loader:\n",
    "        optimizer.zero_grad()\n",
    "\n",
    "        # Make a prediction and estimate the loss\n",
    "        prediction = baseline(Xs)\n",
    "        loss = ce(prediction, ys)\n",
    "\n",
    "        # Compute changes for each parameter w.r.t. loss and update model\n",
    "        loss.backward()\n",
    "        optimizer.step()\n",
    "\n",
    "        # Compute accuracy and average loss for reporting\n",
    "        train_count += Xs.shape[0]\n",
    "        train_loss_total += loss.item()\n",
    "        train_acc_hits += torch.count_nonzero(\n",
    "            torch.argmax(prediction, dim=-1) == ys\n",
    "        ).item()\n",
    "\n",
    "    with torch.no_grad():\n",
    "        for Xs, ys in validation_loader:\n",
    "            prediction = baseline(Xs)\n",
    "            loss = ce(prediction, ys)\n",
    "\n",
    "            valid_count += Xs.shape[0]\n",
    "            valid_loss_total += loss.item()\n",
    "            valid_acc_hits += torch.count_nonzero(\n",
    "                torch.argmax(prediction, dim=-1) == ys\n",
    "            ).item()\n",
    "\n",
    "    scheduler.step()\n",
    "\n",
    "    print(\"Epoch: \", epoch)\n",
    "    print(\"Average training loss:\", train_loss_total / train_count)\n",
    "    print(\"Average training acc:\", train_acc_hits / train_count)\n",
    "    print()\n",
    "    print(\"Average validation loss:\", valid_loss_total / valid_count)\n",
    "    print(\"Average validation acc:\", valid_acc_hits / valid_count)\n",
    "    print()\n",
    "    print()"
   ]
  },
  {
   "cell_type": "markdown",
   "id": "a84f84e9",
   "metadata": {},
   "source": [
    "**Problem 1.1** (1 point) In your own words. Describe the architecture of the provided model. Does the model capture sentence ordering? How is the meaning of the sentence represented?\n"
   ]
  },
  {
   "cell_type": "markdown",
   "id": "9647049b",
   "metadata": {},
   "source": [
    "The provided model is an MLP model with:\n",
    "\n",
    "- An embedding layer that converts input token indices into dense vectors.\n",
    "- A non-linear transformation (tanh) applied to the mean of the embeddings to get a sentence representation.\n",
    "- Three linear layers followed by $\\tanh$ activations to further process the sentence representation.\n",
    "- A final classification layer to predict sentiment scores.\n",
    "\n",
    "Because it takes the mean of the embeddings, the model does not capture sentence ordering and hence loses word sequence information. The average of a sentence's word embeddings is used to convey its meaning, which means that context between words is not explicitly tracked.\n"
   ]
  },
  {
   "cell_type": "markdown",
   "id": "d2e2081d",
   "metadata": {},
   "source": [
    "**Problem 1.2** (1 point) Add dropout to the model and select an appropriate value of dropout probability. How does this affect the model accuracy?\n"
   ]
  },
  {
   "cell_type": "code",
   "execution_count": 8,
   "id": "ea7792b0",
   "metadata": {},
   "outputs": [],
   "source": [
    "from torch import nn\n",
    "from torch import functional as F\n",
    "\n",
    "num_embeddings = len(word_to_idx)\n",
    "num_labels = 5\n",
    "embedding_size = 100\n",
    "hidden_size = 50\n",
    "\n",
    "\n",
    "class MLPBaselineWithDropout(nn.Module):\n",
    "    def __init__(\n",
    "        self, num_embeddings, num_labels, embedding_dim, hidden_dim, dropout_p\n",
    "    ):\n",
    "        super(MLPBaselineWithDropout, self).__init__()\n",
    "        self.embedding = nn.Embedding(num_embeddings, embedding_dim, padding_idx=0)\n",
    "\n",
    "        self.dropout = nn.Dropout(dropout_p)\n",
    "\n",
    "        self.linear1 = nn.Linear(embedding_dim, hidden_dim)\n",
    "        self.linear2 = nn.Linear(hidden_dim, hidden_dim)\n",
    "        self.linear3 = nn.Linear(hidden_dim, hidden_dim)\n",
    "\n",
    "        self.nonlinear = torch.tanh\n",
    "        self.cls_layer = nn.Linear(hidden_dim, num_labels)\n",
    "\n",
    "    def forward(self, input_tensor):\n",
    "        emb = self.embedding(input_tensor)\n",
    "        summed = self.nonlinear(emb.mean(axis=-2))\n",
    "\n",
    "        hidden = self.dropout(self.nonlinear(self.linear1(summed)))\n",
    "        hidden = self.dropout(self.nonlinear(self.linear2(hidden)))\n",
    "        hidden = self.dropout(self.nonlinear(self.linear3(hidden)))\n",
    "\n",
    "        logits = self.cls_layer(hidden)\n",
    "        return logits"
   ]
  },
  {
   "cell_type": "code",
   "execution_count": 9,
   "id": "6d4d472f",
   "metadata": {},
   "outputs": [
    {
     "data": {
      "image/png": "[encoded data removed]",
      "text/plain": [
       "<Figure size 1000x600 with 1 Axes>"
      ]
     },
     "metadata": {},
     "output_type": "display_data"
    }
   ],
   "source": [
    "from torch.optim import Adam, SGD\n",
    "from torch.optim.lr_scheduler import LinearLR\n",
    "import matplotlib.pyplot as plt\n",
    "from statistics import fmean\n",
    "\n",
    "\n",
    "dropout_p_values = [0.0, 0.1, 0.2, 0.3, 0.4, 0.5, 0.6, 0.7, 0.8, 0.9]\n",
    "val_accuracies = []\n",
    "\n",
    "criterion = nn.CrossEntropyLoss()\n",
    "\n",
    "for dropout_p in dropout_p_values:\n",
    "    num_epochs = 6\n",
    "    for i in range(20):\n",
    "        baseline = MLPBaselineWithDropout(\n",
    "            num_embeddings, num_labels, embedding_size, hidden_size, dropout_p\n",
    "        ).to()\n",
    "        optimizer = Adam(baseline.parameters(), lr=0.005)\n",
    "        scheduler = LinearLR(optimizer, total_iters=num_epochs)\n",
    "\n",
    "        tmp_val_accuracies = []\n",
    "\n",
    "        # Training loop\n",
    "        for epoch in range(num_epochs):\n",
    "            train_loss_total = 0\n",
    "            train_acc_hits = 0\n",
    "            train_count = 0\n",
    "\n",
    "            valid_loss_total = 0\n",
    "            valid_acc_hits = 0\n",
    "            valid_count = 0\n",
    "\n",
    "            # Sample a batch of sentences Xs and labels ys from the dataset\n",
    "            for Xs, ys in train_loader:\n",
    "                optimizer.zero_grad()\n",
    "\n",
    "                # Make a prediction and estimate the loss\n",
    "                prediction = baseline(Xs)\n",
    "                loss = criterion(prediction, ys)\n",
    "\n",
    "                # Compute changes for each parameter w.r.t. loss and update model\n",
    "                loss.backward()\n",
    "                optimizer.step()\n",
    "\n",
    "                # Compute accuracy and average loss for reporting\n",
    "                train_count += Xs.shape[0]\n",
    "                train_loss_total += loss.item()\n",
    "                train_acc_hits += torch.count_nonzero(\n",
    "                    torch.argmax(prediction, dim=-1) == ys\n",
    "                ).item()\n",
    "\n",
    "            with torch.no_grad():\n",
    "                for Xs, ys in validation_loader:\n",
    "                    prediction = baseline(Xs)\n",
    "                    loss = criterion(prediction, ys)\n",
    "\n",
    "                    valid_count += Xs.shape[0]\n",
    "                    valid_loss_total += loss.item()\n",
    "                    valid_acc_hits += torch.count_nonzero(\n",
    "                        torch.argmax(prediction, dim=-1) == ys\n",
    "                    ).item()\n",
    "\n",
    "            scheduler.step()\n",
    "\n",
    "            val_accuracy = valid_acc_hits / valid_count\n",
    "\n",
    "        tmp_val_accuracies.append(val_accuracy)\n",
    "\n",
    "    val_accuracies.append(fmean(tmp_val_accuracies))\n",
    "\n",
    "plt.figure(figsize=(10, 6))\n",
    "plt.plot(dropout_p_values, val_accuracies, marker=\"o\")\n",
    "plt.title(\"Dropout Probability vs Validation Accuracy\")\n",
    "plt.xlabel(\"Dropout Probability\")\n",
    "plt.ylabel(\"Validation Accuracy\")\n",
    "plt.grid(True)\n",
    "plt.show()"
   ]
  },
  {
   "cell_type": "markdown",
   "id": "01263021",
   "metadata": {},
   "source": [
    "Dropouts are known to improve model generalisation and prevent overfitting. In this experiment, dropout was added into the model with a range of probabilities [0.0, 0.1, 0.2, 0.3, 0.4, 0.5, 0.6, 0.7, 0.8, 0.9]. Each probability was tested 20 times to account for variability. The results indicated that a dropout probability of 0.6 yielded the highest validation accuracy. However, it was observed that for dropout values exceeding 0.7, there was a significant decline in validation accuracy, suggesting that a too high dropout rate negatively impacted the model's learning capability.\n"
   ]
  },
  {
   "cell_type": "markdown",
   "id": "f0059709",
   "metadata": {},
   "source": [
    "**Problem 1.3** (3 points) Replace part of a model which aggregates the sentence meaning with an RNN encoder. Retrain the model and report the validation set accuracy.\n",
    "\n",
    "There are several valid ways to use the RNN cell. Chose an appropriate representation and justify your choice in your own words.\n",
    "\n",
    "The documentation for the RNN module is here: https://pytorch.org/docs/stable/generated/torch.nn.RNN.html\n",
    "\n",
    "**Common bug: check the batch_first parameter is set**\n"
   ]
  },
  {
   "cell_type": "code",
   "execution_count": 43,
   "id": "9d717948",
   "metadata": {},
   "outputs": [],
   "source": [
    "class RNNBaseline(nn.Module):\n",
    "    def __init__(self, num_embeddings, num_labels, embedding_dim, hidden_dim):\n",
    "        super(RNNBaseline, self).__init__()\n",
    "        self.embedding = nn.Embedding(num_embeddings, embedding_dim, padding_idx=0)\n",
    "        self.rnn = nn.RNN(embedding_dim, embedding_dim, batch_first=True)\n",
    "\n",
    "        self.linear1 = nn.Linear(embedding_dim, hidden_dim)\n",
    "        self.linear2 = nn.Linear(hidden_dim, hidden_dim)\n",
    "        self.linear3 = nn.Linear(hidden_dim, hidden_dim)\n",
    "\n",
    "        self.nonlinear = torch.tanh\n",
    "        self.cls_layer = nn.Linear(hidden_dim, num_labels)\n",
    "\n",
    "    def forward(self, input_tensor):\n",
    "        emb = self.embedding(input_tensor)\n",
    "\n",
    "        out, _ = self.rnn(emb)\n",
    "        rnn_out = out[:, -1, :]\n",
    "\n",
    "        hidden = self.nonlinear(self.linear1(rnn_out))\n",
    "        hidden = self.nonlinear(self.linear2(hidden))\n",
    "        hidden = self.nonlinear(self.linear3(hidden))\n",
    "\n",
    "        logits = self.cls_layer(hidden)\n",
    "        return logits"
   ]
  },
  {
   "cell_type": "code",
   "execution_count": 44,
   "id": "4f73fc06",
   "metadata": {},
   "outputs": [
    {
     "name": "stdout",
     "output_type": "stream",
     "text": [
      "Epoch:  0\n",
      "Average training loss: 0.04313669292332974\n",
      "Average training acc: 0.26556647940074907\n",
      "\n",
      "Average validation loss: 0.04357356390662891\n",
      "Average validation acc: 0.25340599455040874\n",
      "\n",
      "\n",
      "Epoch:  1\n",
      "Average training loss: 0.0427569311377261\n",
      "Average training acc: 0.2646301498127341\n",
      "\n",
      "Average validation loss: 0.04410148478983533\n",
      "Average validation acc: 0.26248864668483196\n",
      "\n",
      "\n",
      "Epoch:  2\n",
      "Average training loss: 0.04275690374916859\n",
      "Average training acc: 0.26322565543071164\n",
      "\n",
      "Average validation loss: 0.04356815888598006\n",
      "Average validation acc: 0.25340599455040874\n",
      "\n",
      "\n",
      "Epoch:  3\n",
      "Average training loss: 0.0429028466846166\n",
      "Average training acc: 0.2624063670411985\n",
      "\n",
      "Average validation loss: 0.04417558099658353\n",
      "Average validation acc: 0.26248864668483196\n",
      "\n",
      "\n",
      "Epoch:  4\n",
      "Average training loss: 0.04295396522971128\n",
      "Average training acc: 0.27153558052434457\n",
      "\n",
      "Average validation loss: 0.04389173631555486\n",
      "Average validation acc: 0.20799273387829245\n",
      "\n",
      "\n",
      "Epoch:  5\n",
      "Average training loss: 0.04297022545214896\n",
      "Average training acc: 0.26205524344569286\n",
      "\n",
      "Average validation loss: 0.04400905568853061\n",
      "Average validation acc: 0.26248864668483196\n",
      "\n",
      "\n"
     ]
    }
   ],
   "source": [
    "from torch.optim import Adam, SGD\n",
    "from torch.optim.lr_scheduler import LinearLR\n",
    "\n",
    "num_epochs = 6\n",
    "\n",
    "num_embeddings = len(word_to_idx)\n",
    "num_labels = 5\n",
    "embedding_size = 100\n",
    "hidden_size = 50\n",
    "\n",
    "rnn_base = RNNBaseline(num_embeddings, num_labels, embedding_size, hidden_size)\n",
    "optimizer = Adam(rnn_base.parameters(), lr=0.005)\n",
    "scheduler = LinearLR(optimizer, total_iters=num_epochs)\n",
    "\n",
    "# Training loop\n",
    "for epoch in range(num_epochs):\n",
    "    train_loss_total = 0\n",
    "    train_acc_hits = 0\n",
    "    train_count = 0\n",
    "\n",
    "    valid_loss_total = 0\n",
    "    valid_acc_hits = 0\n",
    "    valid_count = 0\n",
    "\n",
    "    # Sample a batch of sentences Xs and labels ys from the dataset\n",
    "    for Xs, ys in train_loader:\n",
    "        optimizer.zero_grad()\n",
    "\n",
    "        # Make a prediction and estimate the loss\n",
    "        prediction = rnn_base(Xs)\n",
    "        loss = ce(prediction, ys)\n",
    "\n",
    "        # Compute changes for each parameter w.r.t. loss and update model\n",
    "        loss.backward()\n",
    "        optimizer.step()\n",
    "\n",
    "        # Compute accuracy and average loss for reporting\n",
    "        train_count += Xs.shape[0]\n",
    "        train_loss_total += loss.item()\n",
    "        train_acc_hits += torch.count_nonzero(\n",
    "            torch.argmax(prediction, dim=-1) == ys\n",
    "        ).item()\n",
    "\n",
    "    with torch.no_grad():\n",
    "        for Xs, ys in validation_loader:\n",
    "            prediction = rnn_base(Xs)\n",
    "            loss = ce(prediction, ys)\n",
    "\n",
    "            valid_count += Xs.shape[0]\n",
    "            valid_loss_total += loss.item()\n",
    "            valid_acc_hits += torch.count_nonzero(\n",
    "                torch.argmax(prediction, dim=-1) == ys\n",
    "            ).item()\n",
    "\n",
    "    scheduler.step()\n",
    "\n",
    "    print(\"Epoch: \", epoch)\n",
    "    print(\"Average training loss:\", train_loss_total / train_count)\n",
    "    print(\"Average training acc:\", train_acc_hits / train_count)\n",
    "    print()\n",
    "    print(\"Average validation loss:\", valid_loss_total / valid_count)\n",
    "    print(\"Average validation acc:\", valid_acc_hits / valid_count)\n",
    "    print()\n",
    "    print()"
   ]
  },
  {
   "cell_type": "markdown",
   "id": "ca6c7681",
   "metadata": {},
   "source": [
    "In this modified model, an RNN layer is introduced to replace the aggregation of sentence meaning done previously by averaging embeddings. The RNN can capture sequential information in the sentence, potentially providing richer sentence representations. The final hidden state of the RNN is used to represent the whole sentence. This representation is then fed into the linear layers to predict the label, as it captures the sequential interactions of the sentence tokens, and should contain the overall contextual information of the entire sentence.\n"
   ]
  },
  {
   "cell_type": "markdown",
   "id": "882b267e",
   "metadata": {},
   "source": [
    "# Problem 2 - Recurrent Model as an Autoregressive Language Model (10 points)\n"
   ]
  },
  {
   "cell_type": "markdown",
   "id": "80711804",
   "metadata": {},
   "source": [
    "**Problem 2.1** (1 point) In your own words, describe the RNN neural network architecture. Use equations where appropriate (max 100 words)\n"
   ]
  },
  {
   "cell_type": "markdown",
   "id": "bd0807c1",
   "metadata": {},
   "source": [
    "The RNN architecture is designed to process sequential data by maintaining a hidden state $h_t$ that carries information from previous time steps. The core equation for standard RNN is:\n",
    "\n",
    "$$h_t = \\sigma(U^\\top h_{t-1} + V^\\top x_t)$$\n",
    "\n",
    "Here, $x_t$ is the input at time step $t$, $h_{t-1}$ is the hidden state from the previous time step, and $U, V$ are trainable parameters shared between time steps. The hidden state $h_t$ serves as the memory of the network, allowing it to capture information from past inputs in the sequence. The final output at time step $n$ is usually computed as $y_n = \\text{Softmax}(W^\\top h_n)$.\n"
   ]
  },
  {
   "cell_type": "markdown",
   "id": "20cfa390",
   "metadata": {},
   "source": [
    "**Problem 2.2** (2 points) In your own words. State what the the vanishing gradient problem with RNNs is. How to LSTMs differ from RNNs? How does this difference mitigate the vanishing gradient problem? Use equations where appropriate. (max 200 words)\n"
   ]
  },
  {
   "cell_type": "markdown",
   "id": "cec78bf2",
   "metadata": {},
   "source": [
    "The vanishing gradient problem in RNNs occurs during training when gradients of the loss function w.r.t. the parameters become very small for long sequences, causing the weights not to update effectively, hence learning long-term dependencies becomes challenging. This happens because during backpropagation through time, gradients are multiplied by the weight matrices at each time step, and if the weights are small the gradients shrink exponentially.\n",
    "\n",
    "LSTMs are a type of RNN designed to mitigate the vanishing gradient problem. Unlike standard RNNs, LSTMs have a more complex internal structure involving three gates: an input gate, a forget gate, and an output gate, along with a cell state. The equations for an LSTM are as follows:\n",
    "\n",
    "$$\n",
    "\\begin{align*}\n",
    "I_t &= \\sigma(W_{xi}^\\top x_t + W_{hi}^\\top h_{t-1})\\\\\n",
    "F_t &= \\sigma(W_{xf}^\\top x_t + W_{hf}^\\top h_{t-1})\\\\\n",
    "O_t &= \\sigma(W_{xo}^\\top x_t + W_{ho}^\\top h_{t-1})\\\\\n",
    "\\tilde{C}_t &= \\tanh(W_{xc}^\\top x_t + W_{hc}^\\top h_{t-1})\\\\\n",
    "C_t &= F_t * C_{t-1} + I_t * \\tilde{C}_t\\\\\n",
    "h_t &= O_t * \\tanh(C_t)\n",
    "\\end{align*}\n",
    "$$\n",
    "\n",
    "Here, $*$ denotes elementwise multiplication. The cell state $C_t$ in LSTMs allows the network to maintain long-term dependencies, and the gating mechanisms help in adaptively controlling the flow of information, mitigating the vanishing gradient problem by allowing gradients to flow unchanged through the network.\n"
   ]
  },
  {
   "cell_type": "markdown",
   "id": "e87ee1d5",
   "metadata": {},
   "source": [
    "**Problem 2.3** (1 point) Consider a sequence of tokens $W=(w_1, w_2,\\ldots,w_T)$ with $T$ tokens. Discuss how teacher forcing can be used to train a language model to predict $w_t | w_1, \\ldots, w_{t-1}$ (max 100 words). Write the maximum likelihood criterion for training the model for this sequence with teacher forcing.\n"
   ]
  },
  {
   "cell_type": "markdown",
   "id": "cbb2ee56",
   "metadata": {},
   "source": [
    "In teacher forcing, during training, the true previous tokens $w_1, w_2, \\ldots, w_{t-1}$ are fed as inputs at each time step $t$ to train the model to predict the next token $w_t$. It accelerates training as the model receives accurate historical context.\n",
    "\n",
    "The maximum likelihood criterion for this sequence with teacher forcing can be represented as:\n",
    "\n",
    "$$\n",
    "\\mathcal{L} = -\\sum_{t=1}^{T} \\log P(w_t | w_1, w_2, \\ldots, w_{t-1}; \\theta)\n",
    "$$\n",
    "\n",
    "Where $\\mathcal{L}$ is the loss to be minimised, and $\\theta$ represents the parameters of the model.\n"
   ]
  },
  {
   "cell_type": "markdown",
   "id": "36b02ea0",
   "metadata": {},
   "source": [
    "**Problem 2.4** (5 points) Implement and train an autoregressive LSTM language model using the sentences from the provided SST dataset. Treat each sentence in the dataset independently. Report the training and validation loss for a maximum of 20 epochs. Select appropriate model dimensions.\n",
    "\n",
    "- Hint: it would be beneficial to include special tokens to mark the start and end of sequences.\n",
    "- Hint: it may be beneficial to compute the loss for a single string considering all tokens in a single call to the model rather than perform many independent predictions.\n",
    "\n",
    "Documentation: https://pytorch.org/docs/stable/generated/torch.nn.LSTM.html\n"
   ]
  },
  {
   "cell_type": "code",
   "execution_count": 9,
   "id": "11f100d5",
   "metadata": {},
   "outputs": [
    {
     "name": "stdout",
     "output_type": "stream",
     "text": [
      "Loaded: train 8544\n",
      "Example: {'tokens': ['<SOS>', 'The', 'Rock', 'is', 'destined', 'to', 'be', 'the', '21st', 'Century', \"'s\", 'new', '``', 'Conan', \"''\", 'and', 'that', 'he', \"'s\", 'going', 'to', 'make', 'a', 'splash', 'even', 'greater', 'than', 'Arnold', 'Schwarzenegger', ',', 'Jean-Claud', 'Van', 'Damme', 'or', 'Steven', 'Segal', '.', '<EOS>'], 'token_idxs': [16583, 1, 2, 3, 4, 5, 6, 1, 7, 8, 9, 10, 11, 12, 13, 14, 15, 16, 9, 17, 5, 18, 19, 20, 21, 22, 23, 24, 25, 26, 27, 28, 29, 30, 31, 32, 33, 16584], 'label': 'positive', 'label_idx': 3}\n",
      "\n",
      "Loaded: validation 1101\n",
      "Example: {'tokens': ['<SOS>', 'It', \"'s\", 'a', 'lovely', 'film', 'with', 'lovely', 'performances', 'by', 'Buy', 'and', 'Accorsi', '.', '<EOS>'], 'token_idxs': [16583, 132, 9, 19, 4074, 266, 93, 4074, 433, 83, 3873, 14, 16582, 33, 16584], 'label': 'positive', 'label_idx': 3}\n",
      "\n",
      "Example model input/output\n",
      "([16583, 132, 3, 913, 19, 914, 5, 1, 915, 14, 53, 37, 1, 916, 33, 16584], 3)\n"
     ]
    }
   ],
   "source": [
    "from torch.utils.data import Dataset\n",
    "\n",
    "\n",
    "# Extend vocabulary\n",
    "if \"<SOS>\" not in word_to_idx:\n",
    "    word_to_idx[\"<SOS>\"] = len(word_to_idx)\n",
    "if \"<EOS>\" not in word_to_idx:\n",
    "    word_to_idx[\"<EOS>\"] = len(word_to_idx)\n",
    "\n",
    "\n",
    "class SSTDataset2(Dataset):\n",
    "    def __init__(self, vocab, partition):\n",
    "        super().__init__()\n",
    "        sos_idx = vocab.get(\"<SOS>\")\n",
    "        eos_idx = vocab.get(\"<EOS>\")\n",
    "\n",
    "        self.instances = [\n",
    "            {\n",
    "                \"tokens\": [\"<SOS>\"] + instance[\"tokens\"].split(\"|\") + [\"<EOS>\"],\n",
    "                \"token_idxs\": [sos_idx]\n",
    "                + [\n",
    "                    vocab.get(token.lower(), vocab.get(UNK_TOKEN))\n",
    "                    for token in instance[\"tokens\"].split(\"|\")\n",
    "                ]\n",
    "                + [eos_idx],\n",
    "                \"label\": score_to_label(instance[\"label\"]),\n",
    "                \"label_idx\": score_to_idx(instance[\"label\"]),\n",
    "            }\n",
    "            for instance in sst[partition]\n",
    "        ]\n",
    "\n",
    "        print(\"Loaded:\", partition, len(self.instances))\n",
    "        print(\"Example:\", self.instances[0])\n",
    "        print()\n",
    "\n",
    "    def __len__(self):\n",
    "        return len(self.instances)\n",
    "\n",
    "    def __getitem__(self, idx):\n",
    "        return self.instances[idx][\"token_idxs\"], self.instances[idx][\"label_idx\"]\n",
    "\n",
    "\n",
    "train = SSTDataset2(word_to_idx, \"train\")\n",
    "validation = SSTDataset2(word_to_idx, \"validation\")\n",
    "\n",
    "print(\"Example model input/output\")\n",
    "print(train[100])"
   ]
  },
  {
   "cell_type": "code",
   "execution_count": 10,
   "id": "5fa56321",
   "metadata": {},
   "outputs": [],
   "source": [
    "from torch.utils.data import DataLoader\n",
    "from torch.nn.functional import pad\n",
    "import torch\n",
    "\n",
    "\n",
    "def pad_and_collate(batch):\n",
    "    Xs = [item[0] for item in batch]\n",
    "    ys = [item[1] for item in batch]\n",
    "\n",
    "    # Find longest input\n",
    "    longest_x = max(len(x) for x in Xs)\n",
    "\n",
    "    # Fill remaining space in all other inputs with a 0 padding token\n",
    "    X_tensors = [pad(torch.LongTensor(x), (0, longest_x - len(x)), value=0) for x in Xs]\n",
    "\n",
    "    # Create one large matrix of Xs\n",
    "    X_tensors = torch.stack(X_tensors)\n",
    "    y_tensors = torch.stack([torch.LongTensor([y]) for y in ys]).squeeze()\n",
    "\n",
    "    # print(X_tensors.shape)\n",
    "    # print(y_tensors.shape)\n",
    "    return X_tensors, y_tensors\n",
    "\n",
    "\n",
    "train_loader = DataLoader(\n",
    "    train, batch_size=32, shuffle=True, collate_fn=pad_and_collate\n",
    ")\n",
    "validation_loader = DataLoader(\n",
    "    validation, batch_size=32, shuffle=True, collate_fn=pad_and_collate\n",
    ")\n",
    "\n",
    "# for batch in train_loader:\n",
    "#     print(batch)\n",
    "#     break"
   ]
  },
  {
   "cell_type": "code",
   "execution_count": 31,
   "id": "8a307841",
   "metadata": {},
   "outputs": [],
   "source": [
    "import torch\n",
    "import torch.nn as nn\n",
    "import torch.optim as optim\n",
    "\n",
    "num_embeddings = len(word_to_idx)\n",
    "\n",
    "\n",
    "class LSTMModel(nn.Module):\n",
    "    def __init__(self, num_embeddings, embedding_dim, hidden_dim, num_layers):\n",
    "        super(LSTMModel, self).__init__()\n",
    "        self.embedding = nn.Embedding(num_embeddings, embedding_dim, padding_idx=-1)\n",
    "        self.lstm = nn.LSTM(embedding_dim, hidden_dim, num_layers, batch_first=True)\n",
    "        self.fc = nn.Linear(hidden_dim, num_embeddings)\n",
    "\n",
    "    def forward(self, x):\n",
    "        embed = self.embedding(x)\n",
    "        out, _ = self.lstm(embed)\n",
    "        out = self.fc(out)\n",
    "        return out"
   ]
  },
  {
   "cell_type": "code",
   "execution_count": 32,
   "id": "a93df152",
   "metadata": {},
   "outputs": [],
   "source": [
    "from torch.optim import Adam, SGD\n",
    "from torch.optim.lr_scheduler import LinearLR\n",
    "\n",
    "\n",
    "def train_and_evaluate(model, num_epochs=20):\n",
    "    criterion = nn.CrossEntropyLoss()\n",
    "    optimizer = Adam(model.parameters(), lr=0.005)\n",
    "    scheduler = LinearLR(optimizer, total_iters=num_epochs)\n",
    "\n",
    "    # Training loop\n",
    "    for epoch in range(num_epochs):\n",
    "        train_loss_total = 0\n",
    "        train_acc_hits = 0\n",
    "        train_count = 0\n",
    "\n",
    "        valid_loss_total = 0\n",
    "        valid_acc_hits = 0\n",
    "        valid_count = 0\n",
    "\n",
    "        # Sample a batch of sentences Xs and labels ys from the dataset\n",
    "        for Xs, _ in train_loader:\n",
    "            optimizer.zero_grad()\n",
    "\n",
    "            input_seq = Xs[:, :-1]\n",
    "            target_seq = Xs[:, 1:]\n",
    "\n",
    "            # Make a prediction and estimate the loss\n",
    "            prediction = model(input_seq)\n",
    "\n",
    "            loss = criterion(\n",
    "                prediction.view(-1, num_embeddings), target_seq.reshape(-1)\n",
    "            )\n",
    "\n",
    "            # Compute changes for each parameter w.r.t. loss and update model\n",
    "            loss.backward()\n",
    "            optimizer.step()\n",
    "\n",
    "            # Compute accuracy and average loss for reporting\n",
    "            train_count += input_seq.numel()\n",
    "            train_loss_total += loss.item()\n",
    "\n",
    "            correct_predictions = torch.argmax(prediction, dim=-1) == target_seq\n",
    "            train_acc_hits += correct_predictions.sum().item()\n",
    "\n",
    "        with torch.no_grad():\n",
    "            for Xs, _ in validation_loader:\n",
    "                input_seq = Xs[:, :-1]\n",
    "                target_seq = Xs[:, 1:]\n",
    "\n",
    "                prediction = model(input_seq)\n",
    "\n",
    "                loss = criterion(\n",
    "                    prediction.view(-1, num_embeddings), target_seq.reshape(-1)\n",
    "                )\n",
    "\n",
    "                valid_count += input_seq.numel()\n",
    "                valid_loss_total += loss.item()\n",
    "\n",
    "                correct_predictions = torch.argmax(prediction, dim=-1) == target_seq\n",
    "                valid_acc_hits += correct_predictions.sum().item()\n",
    "\n",
    "        scheduler.step()\n",
    "\n",
    "    return valid_loss_total / valid_count"
   ]
  },
  {
   "cell_type": "code",
   "execution_count": 34,
   "id": "4737dad0",
   "metadata": {},
   "outputs": [
    {
     "name": "stdout",
     "output_type": "stream",
     "text": [
      "Dimensions: Embedding Size 50, Hidden Size 50, Num Layers 1\n",
      "Validation loss: 0.002689710155273838\n",
      "\n",
      "Dimensions: Embedding Size 50, Hidden Size 50, Num Layers 2\n",
      "Validation loss: 0.0026488257491308056\n",
      "\n",
      "Dimensions: Embedding Size 50, Hidden Size 100, Num Layers 1\n",
      "Validation loss: 0.0028789147748225583\n",
      "\n",
      "Dimensions: Embedding Size 50, Hidden Size 100, Num Layers 2\n",
      "Validation loss: 0.002751499390654856\n",
      "\n",
      "Dimensions: Embedding Size 100, Hidden Size 50, Num Layers 1\n",
      "Validation loss: 0.0026822667269629243\n",
      "\n",
      "Dimensions: Embedding Size 100, Hidden Size 50, Num Layers 2\n",
      "Validation loss: 0.002711253913529595\n",
      "\n",
      "Dimensions: Embedding Size 100, Hidden Size 100, Num Layers 1\n",
      "Validation loss: 0.0029540488576136298\n",
      "\n",
      "Dimensions: Embedding Size 100, Hidden Size 100, Num Layers 2\n",
      "Validation loss: 0.002917746228386951\n",
      "\n",
      "------------------------------\n",
      "Best Dimensions: Embedding Size 50, Hidden Size 50, Num Layers 2\n"
     ]
    }
   ],
   "source": [
    "embedding_sizes = [50, 100]\n",
    "hidden_sizes = [50, 100]\n",
    "num_layers_list = [1, 2]\n",
    "\n",
    "best_val_loss = float(\"inf\")\n",
    "best_dims = None\n",
    "best_state_dict = None\n",
    "\n",
    "for embedding_size in embedding_sizes:\n",
    "    for hidden_size in hidden_sizes:\n",
    "        for num_layers in num_layers_list:\n",
    "            model = LSTMModel(num_embeddings, embedding_size, hidden_size, num_layers)\n",
    "            curr_dims = (embedding_size, hidden_size, num_layers)\n",
    "\n",
    "            # Train the model and evaluate on validation set\n",
    "            val_loss = train_and_evaluate(model)\n",
    "            print(\n",
    "                \"Dimensions: Embedding Size {}, Hidden Size {}, Num Layers {}\".format(\n",
    "                    *curr_dims\n",
    "                )\n",
    "            )\n",
    "            print(\"Validation loss:\", val_loss)\n",
    "            print()\n",
    "\n",
    "            if val_loss < best_val_loss:\n",
    "                best_val_loss = val_loss\n",
    "                best_dims = curr_dims\n",
    "                best_state_dict = model.state_dict()\n",
    "\n",
    "print(\"-\" * 30)\n",
    "print(\n",
    "    \"Best Dimensions: Embedding Size {}, Hidden Size {}, Num Layers {}\".format(\n",
    "        *best_dims\n",
    "    )\n",
    ")"
   ]
  },
  {
   "cell_type": "markdown",
   "id": "6bb187de",
   "metadata": {},
   "source": [
    "**Problem 2.4** (1 point) Comparing a randomly initialized model with your trained model, decode a sequence of up to 10 words or until an end of sentence token is predicted. Explore with using greedy decoding and sampling from the distribution of predicted tokens.\n",
    "\n",
    "Show your code and write the sample sentences below.\n"
   ]
  },
  {
   "cell_type": "code",
   "execution_count": 36,
   "id": "a3d6a413",
   "metadata": {},
   "outputs": [
    {
     "name": "stdout",
     "output_type": "stream",
     "text": [
      "Random Model: daredevils tool tool tough grumbling grumbling slam-dunk slam-dunk thought thought\n",
      "Trained Model: the movie is a good movie that 's a movie\n"
     ]
    }
   ],
   "source": [
    "import torch\n",
    "\n",
    "\n",
    "def decode(model, start_token_idx, end_token_idx, max_len=10):\n",
    "    model.eval()\n",
    "    sequence = [start_token_idx]\n",
    "    with torch.no_grad():\n",
    "        for _ in range(max_len):\n",
    "            input_seq = torch.tensor([sequence]).long()\n",
    "            output = model(input_seq)\n",
    "            next_word_idx = output[0, -1, :].argmax().item()\n",
    "            if next_word_idx == end_token_idx:\n",
    "                break\n",
    "            sequence.append(next_word_idx)\n",
    "    return sequence[1:]\n",
    "\n",
    "\n",
    "idx_to_word = {idx: word for word, idx in word_to_idx.items()}\n",
    "\n",
    "\n",
    "def decode_sequence(sequence, idx_to_word):\n",
    "    words = [idx_to_word[idx] for idx in sequence]\n",
    "    return \" \".join(words)\n",
    "\n",
    "\n",
    "# Randomly Initialized Model\n",
    "random_model = LSTMModel(num_embeddings, *best_dims)\n",
    "random_model.eval()\n",
    "\n",
    "# Trained Model\n",
    "trained_model = LSTMModel(num_embeddings, *best_dims)\n",
    "trained_model.load_state_dict(best_state_dict)\n",
    "trained_model.eval()\n",
    "\n",
    "\n",
    "start_token_idx = word_to_idx[\"<SOS>\"]\n",
    "end_token_idx = word_to_idx[\"<EOS>\"]\n",
    "sequence_random = decode(random_model, start_token_idx, end_token_idx)\n",
    "sequence_trained = decode(trained_model, start_token_idx, end_token_idx)\n",
    "\n",
    "# Decode sequences to sentences\n",
    "idx_to_word = {idx: word for word, idx in word_to_idx.items()}\n",
    "print(\"Random Model:\", decode_sequence(sequence_random, idx_to_word))\n",
    "print(\"Trained Model:\", decode_sequence(sequence_trained, idx_to_word))"
   ]
  },
  {
   "cell_type": "markdown",
   "id": "f95dfc96",
   "metadata": {},
   "source": [
    "# Problem 3 - Hierarchical Softmax (10 points)\n"
   ]
  },
  {
   "cell_type": "markdown",
   "id": "4971de9e",
   "metadata": {},
   "source": [
    "In Mikolov et al., 2013b (https://arxiv.org/pdf/1310.4546.pdf), Hierarchical softmax estimates the probability of a token as a sequence of binary choices for traversing a tree.\n"
   ]
  },
  {
   "cell_type": "markdown",
   "id": "a9d0ec89",
   "metadata": {},
   "source": [
    "**Problem 3.1** (2 points) In eqn 3 in Mikolov 2013b, the probability for a word is estimated with the Hierarchical Softmax function. The probability of a word is estimated as a the product of binary (left or right) deicsions traversing this tree. Using the definition of the special function in the paper ($\\lbrack\\lbrack x \\rbrack\\rbrack$), show that if $p(w,left) = \\sigma(u_{n(w,j)}^Tv_t)$, then $p(w,right) = \\sigma(- u_{n(w,j)}^Tv_t)$ where $\\sigma$ is sigmoid function.\n",
    "\n",
    "Hint: this requires manipulation of the sigmoid function.\n"
   ]
  },
  {
   "cell_type": "markdown",
   "id": "d30c1ebf",
   "metadata": {},
   "source": [
    "The sigmoid function is defined as:\n",
    "\n",
    "$\\sigma(x) = \\frac{1}{1 + e^{-x}}$\n",
    "\n",
    "This implies that:\n",
    "\n",
    "$1 - \\sigma(x) = 1 - \\frac{1}{1 + e^{-x}} = \\frac{e^{-x}}{1 + e^{-x}} = \\frac{1}{e^x + 1} = \\sigma(-x)$\n",
    "\n",
    "We know that $p(w, \\text{right})$ is the complement of $p(w, \\text{left})$. Thus,\n",
    "\n",
    "$$\n",
    "\\begin{align*}\n",
    "p(w, \\text{right}) &= 1 - p(w, \\text{left})\\\\\n",
    "\\phantom{p(w, \\text{right})} &= 1 - \\sigma(u_{n(w, j)}^\\top v_t)\\\\\n",
    "\\phantom{p(w, \\text{right})} &= \\sigma(-u_{n(w, j)}^\\top v_t)\n",
    "\\end{align*}\n",
    "$$\n",
    "\n",
    "This completes the proof.\n"
   ]
  },
  {
   "cell_type": "markdown",
   "id": "4d413e61",
   "metadata": {},
   "source": [
    "**Problem 3.2** (3 points) Compare the runtime efficiency of Softmax, Noise Contrastive Estimation, and Hierarchical Softmax for estimating $P(w_t|w_1,\\ldots,w_{t-1})$ (with respect to the number of tokens in the vocabulary). What impact does this have when training the model? Why is this a factor we want to consider? (max 100 words)\n"
   ]
  },
  {
   "cell_type": "markdown",
   "id": "841eca7e",
   "metadata": {},
   "source": [
    "Softmax complexity is $\\mathcal{O}(V)$, where $V$ is the vocabulary size, due to normalisation over all words in the vocabulary.\\\n",
    "Noise Contrastive Estimation complexity is $\\mathcal{O}(k)$, where $k$ is the number of noise samples used.\\\n",
    "Hierarchical Softmax complexity is $\\mathcal{O}(\\log⁡ V)$ by approximating normalisation using a binary tree structure.\n",
    "\n",
    "Reduced computational complexity speeds up training, especially with large vocabularies, enabling the model to handle more data. This is crucial as computational efficiency is often a limiting factor in training large-scale language models.\n"
   ]
  },
  {
   "cell_type": "markdown",
   "id": "43e249d0",
   "metadata": {},
   "source": [
    "**Problem 3.3** (5 points) Implement hierarchical softmax for estimating $P(w_t | w_1, \\ldots, w_{t-1})$ in your LSTM LM considering the hidden reprsentation $h_t$ for a token at position $t$. Implement your solution with a balanced binary tree.\n"
   ]
  },
  {
   "cell_type": "code",
   "execution_count": 53,
   "id": "7cafeedb",
   "metadata": {},
   "outputs": [],
   "source": [
    "class HierarchicalSoftmax(nn.Module):\n",
    "    def __init__(self, hidden_dim, vocab_size):\n",
    "        super(HierarchicalSoftmax, self).__init__()\n",
    "        self.vocab_size = vocab_size\n",
    "        self.tree_depth = int(np.ceil(np.log2(vocab_size)))\n",
    "        self.total_nodes = 2 ** (self.tree_depth + 1) - 1\n",
    "        self.non_leaf_nodes = 2**self.tree_depth - 1\n",
    "\n",
    "        self.nodes = nn.Parameter(torch.randn(self.non_leaf_nodes, hidden_dim))\n",
    "\n",
    "    def forward(self, x):\n",
    "        batch_size, _ = x.size()\n",
    "        outputs = torch.zeros(batch_size, self.vocab_size)\n",
    "\n",
    "        for i in range(self.vocab_size):\n",
    "            idx = 0\n",
    "            path_prob = torch.ones(batch_size)\n",
    "            bin_repr = format(\n",
    "                i, \"0\" + str(self.tree_depth) + \"b\"\n",
    "            )  # binary representation of word index\n",
    "            for depth, direction in enumerate(bin_repr):\n",
    "                logit = torch.sigmoid(\n",
    "                    torch.matmul(x, self.nodes[idx].unsqueeze(-1))\n",
    "                ).squeeze()\n",
    "                if direction == \"0\":\n",
    "                    # left\n",
    "                    path_prob *= logit\n",
    "                    idx = 2 * idx + 1\n",
    "                else:\n",
    "                    # right\n",
    "                    path_prob *= 1 - logit\n",
    "                    idx = 2 * idx + 2\n",
    "            outputs[:, i] = path_prob\n",
    "        return outputs"
   ]
  },
  {
   "cell_type": "code",
   "execution_count": 54,
   "id": "765cb785",
   "metadata": {},
   "outputs": [],
   "source": [
    "class LSTMModelWithHS(nn.Module):\n",
    "    def __init__(self, num_embeddings, embedding_dim, hidden_dim, num_layers):\n",
    "        super(LSTMModelWithHS, self).__init__()\n",
    "        self.embedding = nn.Embedding(num_embeddings, embedding_dim)\n",
    "        self.lstm = nn.LSTM(embedding_dim, hidden_dim, num_layers, batch_first=True)\n",
    "        self.hierarchical_softmax = HierarchicalSoftmax(hidden_dim, num_embeddings)\n",
    "\n",
    "    def forward(self, x):\n",
    "        embed = self.embedding(x)\n",
    "        out, _ = self.lstm(embed)\n",
    "        out = out[:, -1, :]\n",
    "        out = self.hierarchical_softmax(out)\n",
    "        return out\n",
    "\n",
    "\n",
    "num_embeddings = len(word_to_idx)\n",
    "embedding_size = 100\n",
    "hidden_size = 50\n",
    "num_layers = 1\n",
    "model = LSTMModelWithHS(num_embeddings, embedding_size, hidden_size, num_layers)"
   ]
  }
 ],
 "metadata": {
  "kernelspec": {
   "display_name": "Python 3",
   "language": "python",
   "name": "python3"
  },
  "language_info": {
   "codemirror_mode": {
    "name": "ipython",
    "version": 3
   },
   "file_extension": ".py",
   "mimetype": "text/x-python",
   "name": "python",
   "nbconvert_exporter": "python",
   "pygments_lexer": "ipython3",
   "version": "3.10.12"
  }
 },
 "nbformat": 4,
 "nbformat_minor": 5
}
